{
 "cells": [
  {
   "cell_type": "markdown",
   "metadata": {},
   "source": [
    "# Financial Planning with APIs and Simulations\n",
    "\n",
    "In this Challenge, you’ll create two financial analysis tools by using a single Jupyter notebook:\n",
    "\n",
    "Part 1: A financial planner for emergencies. The members will be able to use this tool to visualize their current savings. The members can then determine if they have enough reserves for an emergency fund.\n",
    "\n",
    "Part 2: A financial planner for retirement. This tool will forecast the performance of their retirement portfolio in 30 years. To do this, the tool will make an Alpaca API call via the Alpaca SDK to get historical price data for use in Monte Carlo simulations.\n",
    "\n",
    "You’ll use the information from the Monte Carlo simulation to answer questions about the portfolio in your Jupyter notebook.\n",
    "\n"
   ]
  },
  {
   "cell_type": "code",
   "execution_count": 1,
   "metadata": {},
   "outputs": [],
   "source": [
    "# Import the required libraries and dependencies\n",
    "import os\n",
    "import requests\n",
    "import json\n",
    "import pandas as pd\n",
    "from dotenv import load_dotenv\n",
    "import alpaca_trade_api as tradeapi\n",
    "from MCForecastTools import MCSimulation\n",
    "\n",
    "%matplotlib inline"
   ]
  },
  {
   "cell_type": "code",
   "execution_count": 2,
   "metadata": {},
   "outputs": [
    {
     "data": {
      "text/plain": [
       "True"
      ]
     },
     "execution_count": 2,
     "metadata": {},
     "output_type": "execute_result"
    }
   ],
   "source": [
    "# Load the environment variables from the .env file\n",
    "#by calling the load_dotenv function\n",
    "load_dotenv()"
   ]
  },
  {
   "cell_type": "markdown",
   "metadata": {},
   "source": [
    "## Part 1: Create a Financial Planner for Emergencies"
   ]
  },
  {
   "cell_type": "markdown",
   "metadata": {},
   "source": [
    "### Evaluate the Cryptocurrency Wallet by Using the Requests Library\n",
    "\n",
    "In this section, you’ll determine the current value of a member’s cryptocurrency wallet. You’ll collect the current prices for the Bitcoin and Ethereum cryptocurrencies by using the Python Requests library. For the prototype, you’ll assume that the member holds the 1.2 Bitcoins (BTC) and 5.3 Ethereum coins (ETH). To do all this, complete the following steps:\n",
    "\n",
    "1. Create a variable named `monthly_income`, and set its value to `12000`.\n",
    "\n",
    "2. Use the Requests library to get the current price (in US dollars) of Bitcoin (BTC) and Ethereum (ETH) by using the API endpoints that the starter code supplies.\n",
    "\n",
    "3. Navigate the JSON response object to access the current price of each coin, and store each in a variable.\n",
    "\n",
    "    > **Hint** Note the specific identifier for each cryptocurrency in the API JSON response. The Bitcoin identifier is `1`, and the Ethereum identifier is `1027`.\n",
    "\n",
    "4. Calculate the value, in US dollars, of the current amount of each cryptocurrency and of the entire cryptocurrency wallet.\n",
    "\n"
   ]
  },
  {
   "cell_type": "code",
   "execution_count": 3,
   "metadata": {},
   "outputs": [],
   "source": [
    "# The current number of coins for each cryptocurrency asset held in the portfolio.\n",
    "btc_coins = 1.2\n",
    "eth_coins = 5.3"
   ]
  },
  {
   "cell_type": "markdown",
   "metadata": {},
   "source": [
    "#### Step 1: Create a variable named `monthly_income`, and set its value to `12000`."
   ]
  },
  {
   "cell_type": "code",
   "execution_count": 4,
   "metadata": {},
   "outputs": [],
   "source": [
    "# The monthly amount for the member's household income\n",
    "monthly_income = 12000"
   ]
  },
  {
   "cell_type": "markdown",
   "metadata": {},
   "source": [
    "#### Review the endpoint URLs for the API calls to Free Crypto API in order to get the current pricing information for both BTC and ETH."
   ]
  },
  {
   "cell_type": "code",
   "execution_count": 5,
   "metadata": {},
   "outputs": [],
   "source": [
    "# The Free Crypto API Call endpoint URLs for the held cryptocurrency assets\n",
    "btc_url = \"https://api.alternative.me/v2/ticker/Bitcoin/?convert=USD\"\n",
    "eth_url = \"https://api.alternative.me/v2/ticker/Ethereum/?convert=USD\""
   ]
  },
  {
   "cell_type": "markdown",
   "metadata": {},
   "source": [
    "#### Step 2. Use the Requests library to get the current price (in US dollars) of Bitcoin (BTC) and Ethereum (ETH) by using the API endpoints that the starter code supplied."
   ]
  },
  {
   "cell_type": "code",
   "execution_count": 6,
   "metadata": {},
   "outputs": [
    {
     "name": "stdout",
     "output_type": "stream",
     "text": [
      "{\n",
      "    \"data\": {\n",
      "        \"1\": {\n",
      "            \"circulating_supply\": 19111706,\n",
      "            \"id\": 1,\n",
      "            \"last_updated\": 1659581070,\n",
      "            \"max_supply\": 21000000,\n",
      "            \"name\": \"Bitcoin\",\n",
      "            \"quotes\": {\n",
      "                \"USD\": {\n",
      "                    \"market_cap\": 443119277269,\n",
      "                    \"percent_change_1h\": -0.267918461703364,\n",
      "                    \"percent_change_24h\": 1.12729839802523,\n",
      "                    \"percent_change_7d\": 1.053680316042,\n",
      "                    \"percentage_change_1h\": -0.267918461703364,\n",
      "                    \"percentage_change_24h\": 1.12729839802523,\n",
      "                    \"percentage_change_7d\": 1.053680316042,\n",
      "                    \"price\": 23150.0,\n",
      "                    \"volume_24h\": 42459304066\n",
      "                }\n",
      "            },\n",
      "            \"rank\": 1,\n",
      "            \"symbol\": \"BTC\",\n",
      "            \"total_supply\": 19111706,\n",
      "            \"website_slug\": \"bitcoin\"\n",
      "        }\n",
      "    },\n",
      "    \"metadata\": {\n",
      "        \"error\": null,\n",
      "        \"num_cryptocurrencies\": 3116,\n",
      "        \"timestamp\": 1659581070\n",
      "    }\n",
      "}\n"
     ]
    }
   ],
   "source": [
    "# Using the Python requests library, make an API call to access the current price of BTC\n",
    "btc_response = requests.get(btc_url).json()\n",
    "\n",
    "# Use the json.dumps function to review the response data from the API call\n",
    "# Use the indent and sort_keys parameters to make the response object readable\n",
    "print(json.dumps(btc_response, indent=4, sort_keys=True))"
   ]
  },
  {
   "cell_type": "code",
   "execution_count": 7,
   "metadata": {},
   "outputs": [
    {
     "name": "stdout",
     "output_type": "stream",
     "text": [
      "{\n",
      "    \"data\": {\n",
      "        \"1027\": {\n",
      "            \"circulating_supply\": 119950067,\n",
      "            \"id\": 1027,\n",
      "            \"last_updated\": 1659581057,\n",
      "            \"max_supply\": 119950067,\n",
      "            \"name\": \"Ethereum\",\n",
      "            \"quotes\": {\n",
      "                \"USD\": {\n",
      "                    \"market_cap\": 198692401447,\n",
      "                    \"percent_change_1h\": -0.162766795071319,\n",
      "                    \"percent_change_24h\": 2.04446736411383,\n",
      "                    \"percent_change_7d\": 0.979365541798585,\n",
      "                    \"percentage_change_1h\": -0.162766795071319,\n",
      "                    \"percentage_change_24h\": 2.04446736411383,\n",
      "                    \"percentage_change_7d\": 0.979365541798585,\n",
      "                    \"price\": 1652.98,\n",
      "                    \"volume_24h\": 15707969440\n",
      "                }\n",
      "            },\n",
      "            \"rank\": 2,\n",
      "            \"symbol\": \"ETH\",\n",
      "            \"total_supply\": 119950067,\n",
      "            \"website_slug\": \"ethereum\"\n",
      "        }\n",
      "    },\n",
      "    \"metadata\": {\n",
      "        \"error\": null,\n",
      "        \"num_cryptocurrencies\": 3116,\n",
      "        \"timestamp\": 1659581057\n",
      "    }\n",
      "}\n"
     ]
    }
   ],
   "source": [
    "# Using the Python requests library, make an API call to access the current price ETH\n",
    "eth_response = requests.get(eth_url).json()\n",
    "\n",
    "# Use the json.dumps function to review the response data from the API call\n",
    "# Use the indent and sort_keys parameters to make the response object readable\n",
    "print(json.dumps(eth_response, indent=4, sort_keys=True))"
   ]
  },
  {
   "cell_type": "markdown",
   "metadata": {},
   "source": [
    "#### Step 3: Navigate the JSON response object to access the current price of each coin, and store each in a variable."
   ]
  },
  {
   "cell_type": "code",
   "execution_count": 8,
   "metadata": {},
   "outputs": [
    {
     "name": "stdout",
     "output_type": "stream",
     "text": [
      "The price for BTC is $23150.0 :'(\n"
     ]
    }
   ],
   "source": [
    "# Navigate the BTC response object to access the current price of BTC\n",
    "btc_price = btc_response['data']['1']['quotes']['USD']['price']\n",
    "\n",
    "# Print the current price of BTC\n",
    "print(f\"The price for BTC is ${btc_price} :'(\")"
   ]
  },
  {
   "cell_type": "code",
   "execution_count": 9,
   "metadata": {},
   "outputs": [
    {
     "name": "stdout",
     "output_type": "stream",
     "text": [
      "The price for ETH is $1652.98 :'(\n"
     ]
    }
   ],
   "source": [
    "# Navigate the BTC response object to access the current price of ETH\n",
    "eth_price = eth_response['data']['1027']['quotes']['USD']['price']\n",
    "\n",
    "# Print the current price of ETH\n",
    "print(f\"The price for ETH is ${eth_price} :'(\")"
   ]
  },
  {
   "cell_type": "markdown",
   "metadata": {},
   "source": [
    "### Step 4: Calculate the value, in US dollars, of the current amount of each cryptocurrency and of the entire cryptocurrency wallet."
   ]
  },
  {
   "cell_type": "code",
   "execution_count": 10,
   "metadata": {},
   "outputs": [
    {
     "name": "stdout",
     "output_type": "stream",
     "text": [
      "current value of your holding in BTC is $27780.0\n"
     ]
    }
   ],
   "source": [
    "# Compute the current value of the BTC holding \n",
    "btc_value = btc_price * btc_coins\n",
    "\n",
    "# Print current value of your holding in BTC\n",
    "print(f'current value of your holding in BTC is ${btc_value}')"
   ]
  },
  {
   "cell_type": "code",
   "execution_count": 11,
   "metadata": {},
   "outputs": [
    {
     "name": "stdout",
     "output_type": "stream",
     "text": [
      "current value of your holding in ETH is $8760.794\n"
     ]
    }
   ],
   "source": [
    "# Compute the current value of the ETH holding \n",
    "eth_value = eth_price * eth_coins\n",
    "\n",
    "# Print current value of your holding in ETH\n",
    "print(f'current value of your holding in ETH is ${eth_value}')"
   ]
  },
  {
   "cell_type": "code",
   "execution_count": 12,
   "metadata": {},
   "outputs": [
    {
     "name": "stdout",
     "output_type": "stream",
     "text": [
      "Total value of your cryptocurrency wallet is $36540.794\n"
     ]
    }
   ],
   "source": [
    "# Compute the total value of the cryptocurrency wallet\n",
    "# Add the value of the BTC holding to the value of the ETH holding\n",
    "total_crypto_wallet = eth_value + btc_value\n",
    "\n",
    "# Print current cryptocurrency wallet balance\n",
    "print(f'Total value of your cryptocurrency wallet is ${total_crypto_wallet}')"
   ]
  },
  {
   "cell_type": "markdown",
   "metadata": {},
   "source": [
    "### Evaluate the Stock and Bond Holdings by Using the Alpaca SDK\n",
    "\n",
    "In this section, you’ll determine the current value of a member’s stock and bond holdings. You’ll make an API call to Alpaca via the Alpaca SDK to get the current closing prices of the SPDR S&P 500 ETF Trust (ticker: SPY) and of the iShares Core US Aggregate Bond ETF (ticker: AGG). For the prototype, assume that the member holds 110 shares of SPY, which represents the stock portion of their portfolio, and 200 shares of AGG, which represents the bond portion. To do all this, complete the following steps:\n",
    "\n",
    "1. In the `Starter_Code` folder, create an environment file (`.env`) to store the values of your Alpaca API key and Alpaca secret key.\n",
    "\n",
    "2. Set the variables for the Alpaca API and secret keys. Using the Alpaca SDK, create the Alpaca `tradeapi.REST` object. In this object, include the parameters for the Alpaca API key, the secret key, and the version number.\n",
    "\n",
    "3. Set the following parameters for the Alpaca API call:\n",
    "\n",
    "    - `tickers`: Use the tickers for the member’s stock and bond holdings.\n",
    "\n",
    "    - `timeframe`: Use a time frame of one day.\n",
    "\n",
    "    - `start_date` and `end_date`: Use the same date for these parameters, and format them with the date of the previous weekday (or `2020-08-07`). This is because you want the one closing price for the most-recent trading day.\n",
    "\n",
    "4. Get the current closing prices for `SPY` and `AGG` by using the Alpaca `get_bars` function. Format the response as a Pandas DataFrame by including the `df` property at the end of the `get_bars` function.\n",
    "\n",
    "5. Navigating the Alpaca response DataFrame, select the `SPY` and `AGG` closing prices, and store them as variables.\n",
    "\n",
    "6. Calculate the value, in US dollars, of the current amount of shares in each of the stock and bond portions of the portfolio, and print the results.\n"
   ]
  },
  {
   "cell_type": "markdown",
   "metadata": {},
   "source": [
    "#### Review the total number of shares held in both (SPY) and (AGG)."
   ]
  },
  {
   "cell_type": "code",
   "execution_count": 13,
   "metadata": {},
   "outputs": [],
   "source": [
    "# Current amount of shares held in both the stock (SPY) and bond (AGG) portion of the portfolio.\n",
    "spy_shares = 110\n",
    "agg_shares = 200\n"
   ]
  },
  {
   "cell_type": "markdown",
   "metadata": {},
   "source": [
    "#### Step 1: In the `Starter_Code` folder, create an environment file (`.env`) to store the values of your Alpaca API key and Alpaca secret key."
   ]
  },
  {
   "cell_type": "markdown",
   "metadata": {},
   "source": [
    "#### Step 2: Set the variables for the Alpaca API and secret keys. Using the Alpaca SDK, create the Alpaca `tradeapi.REST` object. In this object, include the parameters for the Alpaca API key, the secret key, and the version number."
   ]
  },
  {
   "cell_type": "code",
   "execution_count": 14,
   "metadata": {},
   "outputs": [],
   "source": [
    "# Set the variables for the Alpaca API and secret keys\n",
    "alpaca_api_key = os.getenv(\"ALPACA_API_KEY\")\n",
    "alpaca_secret_key = os.getenv(\"ALPACA_SECRET_KEY\")\n",
    "\n",
    "# Create the Alpaca tradeapi.REST object\n",
    "alpaca = tradeapi.REST(\n",
    "    alpaca_api_key,\n",
    "    alpaca_secret_key,\n",
    "    api_version=\"v2\"\n",
    ")"
   ]
  },
  {
   "cell_type": "markdown",
   "metadata": {},
   "source": [
    "#### Step 3: Set the following parameters for the Alpaca API call:\n",
    "\n",
    "- `tickers`: Use the tickers for the member’s stock and bond holdings.\n",
    "\n",
    "- `timeframe`: Use a time frame of one day.\n",
    "\n",
    "- `start_date` and `end_date`: Use the same date for these parameters, and format them with the date of the previous weekday (or `2020-08-07`). This is because you want the one closing price for the most-recent trading day.\n"
   ]
  },
  {
   "cell_type": "code",
   "execution_count": 15,
   "metadata": {},
   "outputs": [],
   "source": [
    "# Set the tickers for both the bond and stock portion of the portfolio\n",
    "tickers=[\"SPY\",\"AGG\"]\n",
    "\n",
    "# Set timeframe to 1Day\n",
    "timeframe = \"1Day\"\n",
    "\n",
    "# Format current date as ISO format\n",
    "# Set both the start and end date at the date of your prior weekday \n",
    "# This will give you the closing price of the previous trading day\n",
    "# Alternatively you can use a start and end date of 2020-08-07\n",
    "start_date = pd.Timestamp(\"2022-08-01\", tz=\"America/New_York\").isoformat()\n",
    "end_date = pd.Timestamp(\"2022-08-01\", tz=\"America/New_York\").isoformat()\n"
   ]
  },
  {
   "cell_type": "markdown",
   "metadata": {},
   "source": [
    "#### Step 4: Get the current closing prices for `SPY` and `AGG` by using the Alpaca `get_bars` function. Format the response as a Pandas DataFrame by including the `df` property at the end of the `get_bars` function."
   ]
  },
  {
   "cell_type": "code",
   "execution_count": 16,
   "metadata": {},
   "outputs": [
    {
     "data": {
      "text/html": [
       "<div>\n",
       "<style scoped>\n",
       "    .dataframe tbody tr th:only-of-type {\n",
       "        vertical-align: middle;\n",
       "    }\n",
       "\n",
       "    .dataframe tbody tr th {\n",
       "        vertical-align: top;\n",
       "    }\n",
       "\n",
       "    .dataframe thead tr th {\n",
       "        text-align: left;\n",
       "    }\n",
       "\n",
       "    .dataframe thead tr:last-of-type th {\n",
       "        text-align: right;\n",
       "    }\n",
       "</style>\n",
       "<table border=\"1\" class=\"dataframe\">\n",
       "  <thead>\n",
       "    <tr>\n",
       "      <th></th>\n",
       "      <th colspan=\"7\" halign=\"left\">SPY</th>\n",
       "      <th colspan=\"7\" halign=\"left\">AGG</th>\n",
       "    </tr>\n",
       "    <tr>\n",
       "      <th></th>\n",
       "      <th>open</th>\n",
       "      <th>high</th>\n",
       "      <th>low</th>\n",
       "      <th>close</th>\n",
       "      <th>volume</th>\n",
       "      <th>trade_count</th>\n",
       "      <th>vwap</th>\n",
       "      <th>open</th>\n",
       "      <th>high</th>\n",
       "      <th>low</th>\n",
       "      <th>close</th>\n",
       "      <th>volume</th>\n",
       "      <th>trade_count</th>\n",
       "      <th>vwap</th>\n",
       "    </tr>\n",
       "    <tr>\n",
       "      <th>timestamp</th>\n",
       "      <th></th>\n",
       "      <th></th>\n",
       "      <th></th>\n",
       "      <th></th>\n",
       "      <th></th>\n",
       "      <th></th>\n",
       "      <th></th>\n",
       "      <th></th>\n",
       "      <th></th>\n",
       "      <th></th>\n",
       "      <th></th>\n",
       "      <th></th>\n",
       "      <th></th>\n",
       "      <th></th>\n",
       "    </tr>\n",
       "  </thead>\n",
       "  <tbody>\n",
       "    <tr>\n",
       "      <th>2022-08-01 04:00:00+00:00</th>\n",
       "      <td>409.16</td>\n",
       "      <td>413.41</td>\n",
       "      <td>408.4</td>\n",
       "      <td>410.77</td>\n",
       "      <td>69633616</td>\n",
       "      <td>516221</td>\n",
       "      <td>411.079113</td>\n",
       "      <td>103.97</td>\n",
       "      <td>104.305</td>\n",
       "      <td>103.91</td>\n",
       "      <td>104.23</td>\n",
       "      <td>7485387</td>\n",
       "      <td>31215</td>\n",
       "      <td>104.156518</td>\n",
       "    </tr>\n",
       "  </tbody>\n",
       "</table>\n",
       "</div>"
      ],
      "text/plain": [
       "                              SPY                                   \\\n",
       "                             open    high    low   close    volume   \n",
       "timestamp                                                            \n",
       "2022-08-01 04:00:00+00:00  409.16  413.41  408.4  410.77  69633616   \n",
       "\n",
       "                                                      AGG                   \\\n",
       "                          trade_count        vwap    open     high     low   \n",
       "timestamp                                                                    \n",
       "2022-08-01 04:00:00+00:00      516221  411.079113  103.97  104.305  103.91   \n",
       "\n",
       "                                                                    \n",
       "                            close   volume trade_count        vwap  \n",
       "timestamp                                                           \n",
       "2022-08-01 04:00:00+00:00  104.23  7485387       31215  104.156518  "
      ]
     },
     "execution_count": 16,
     "metadata": {},
     "output_type": "execute_result"
    }
   ],
   "source": [
    "# Use the Alpaca get_bars function to get current closing prices the portfolio\n",
    "# Be sure to set the `df` property after the function to format the response object as a DataFrame\n",
    "df_portfolio = alpaca.get_bars(\n",
    "    tickers,\n",
    "    timeframe,\n",
    "    start = start_date,\n",
    "    end = end_date\n",
    ").df\n",
    "\n",
    "#separate ticker data\n",
    "SPY = df_portfolio[df_portfolio['symbol']=='SPY'].drop('symbol', axis=1)\n",
    "AGG = df_portfolio[df_portfolio['symbol']=='AGG'].drop('symbol', axis=1)\n",
    "\n",
    "#concatenate the ticker DF                   \n",
    "df_portfolio = pd.concat([SPY,AGG],axis=1, keys=['SPY','AGG'])                \n",
    "\n",
    "# Review the first 5 rows of the Alpaca DataFrame\n",
    "df_portfolio.head()"
   ]
  },
  {
   "cell_type": "markdown",
   "metadata": {},
   "source": [
    "#### Step 5: Navigating the Alpaca response DataFrame, select the `SPY` and `AGG` closing prices, and store them as variables."
   ]
  },
  {
   "cell_type": "code",
   "execution_count": 17,
   "metadata": {},
   "outputs": [
    {
     "name": "stdout",
     "output_type": "stream",
     "text": [
      "104.23\n"
     ]
    }
   ],
   "source": [
    "# Access the closing price for AGG from the Alpaca DataFrame\n",
    "# Converting the value to a floating point number\n",
    "agg_close_price = float(df_portfolio[\"AGG\"][\"close\"])\n",
    "\n",
    "# Print the AGG closing price\n",
    "print(agg_close_price)"
   ]
  },
  {
   "cell_type": "code",
   "execution_count": 18,
   "metadata": {},
   "outputs": [
    {
     "name": "stdout",
     "output_type": "stream",
     "text": [
      "410.77\n"
     ]
    }
   ],
   "source": [
    "# Access the closing price for SPY from the Alpaca DataFrame\n",
    "# Converting the value to a floating point number\n",
    "spy_close_price = float(df_portfolio[\"SPY\"][\"close\"])\n",
    "\n",
    "# Print the SPY closing price\n",
    "print(spy_close_price)"
   ]
  },
  {
   "cell_type": "markdown",
   "metadata": {},
   "source": [
    "#### Step 6: Calculate the value, in US dollars, of the current amount of shares in each of the stock and bond portions of the portfolio, and print the results."
   ]
  },
  {
   "cell_type": "code",
   "execution_count": 19,
   "metadata": {},
   "outputs": [
    {
     "name": "stdout",
     "output_type": "stream",
     "text": [
      "20846.0\n"
     ]
    }
   ],
   "source": [
    "# Calculate the current value of the bond portion of the portfolio\n",
    "agg_value = agg_close_price * agg_shares\n",
    "\n",
    "# Print the current value of the bond portfolio\n",
    "print(agg_value)"
   ]
  },
  {
   "cell_type": "code",
   "execution_count": 20,
   "metadata": {},
   "outputs": [
    {
     "name": "stdout",
     "output_type": "stream",
     "text": [
      "45184.7\n"
     ]
    }
   ],
   "source": [
    "# Calculate the current value of the stock portion of the portfolio\n",
    "spy_value = spy_close_price * spy_shares\n",
    "\n",
    "# Print the current value of the stock portfolio\n",
    "print(spy_value)"
   ]
  },
  {
   "cell_type": "code",
   "execution_count": 21,
   "metadata": {},
   "outputs": [
    {
     "name": "stdout",
     "output_type": "stream",
     "text": [
      "66030.7\n"
     ]
    }
   ],
   "source": [
    "# Calculate the total value of the stock and bond portion of the portfolio\n",
    "total_stocks_bonds = spy_value + agg_value\n",
    "\n",
    "# Print the current balance of the stock and bond portion of the portfolio\n",
    "print(total_stocks_bonds)"
   ]
  },
  {
   "cell_type": "code",
   "execution_count": 22,
   "metadata": {},
   "outputs": [
    {
     "name": "stdout",
     "output_type": "stream",
     "text": [
      "total value of stock and bond portfolio $ 102571.49\n"
     ]
    }
   ],
   "source": [
    "# Calculate the total value of the member's entire savings portfolio\n",
    "# Add the value of the cryptocurrency walled to the value of the total stocks and bonds\n",
    "total_portfolio = total_stocks_bonds + total_crypto_wallet\n",
    "\n",
    "# Print current cryptocurrency wallet balance\n",
    "print(f'total value of stock and bond portfolio ${total_portfolio: .2f}'\n",
    ")"
   ]
  },
  {
   "cell_type": "markdown",
   "metadata": {},
   "source": [
    "### Evaluate the Emergency Fund\n",
    "\n",
    "In this section, you’ll use the valuations for the cryptocurrency wallet and for the stock and bond portions of the portfolio to determine if the credit union member has enough savings to build an emergency fund into their financial plan. To do this, complete the following steps:\n",
    "\n",
    "1. Create a Python list named `savings_data` that has two elements. The first element contains the total value of the cryptocurrency wallet. The second element contains the total value of the stock and bond portions of the portfolio.\n",
    "\n",
    "2. Use the `savings_data` list to create a Pandas DataFrame named `savings_df`, and then display this DataFrame. The function to create the DataFrame should take the following three parameters:\n",
    "\n",
    "    - `savings_data`: Use the list that you just created.\n",
    "\n",
    "    - `columns`: Set this parameter equal to a Python list with a single value called `amount`.\n",
    "\n",
    "    - `index`: Set this parameter equal to a Python list with the values of `crypto` and `stock/bond`.\n",
    "\n",
    "3. Use the `savings_df` DataFrame to plot a pie chart that visualizes the composition of the member’s portfolio. The y-axis of the pie chart uses `amount`. Be sure to add a title.\n",
    "\n",
    "4. Using Python, determine if the current portfolio has enough to create an emergency fund as part of the member’s financial plan. Ideally, an emergency fund should equal to three times the member’s monthly income. To do this, implement the following steps:\n",
    "\n",
    "    1. Create a variable named `emergency_fund_value`, and set it equal to three times the value of the member’s `monthly_income` of $12000. (You set this earlier in Part 1).\n",
    "\n",
    "    2. Create a series of three if statements to determine if the member’s total portfolio is large enough to fund the emergency portfolio:\n",
    "\n",
    "        1. If the total portfolio value is greater than the emergency fund value, display a message congratulating the member for having enough money in this fund.\n",
    "\n",
    "        2. Else if the total portfolio value is equal to the emergency fund value, display a message congratulating the member on reaching this important financial goal.\n",
    "\n",
    "        3. Else the total portfolio is less than the emergency fund value, so display a message showing how many dollars away the member is from reaching the goal. (Subtract the total portfolio value from the emergency fund value.)\n"
   ]
  },
  {
   "cell_type": "markdown",
   "metadata": {},
   "source": [
    "#### Step 1: Create a Python list named `savings_data` that has two elements. The first element contains the total value of the cryptocurrency wallet. The second element contains the total value of the stock and bond portions of the portfolio."
   ]
  },
  {
   "cell_type": "code",
   "execution_count": 23,
   "metadata": {},
   "outputs": [
    {
     "name": "stdout",
     "output_type": "stream",
     "text": [
      "[36540.794, 66030.7]\n"
     ]
    }
   ],
   "source": [
    "# Consolidate financial assets data into a Python list\n",
    "savings_data = [total_crypto_wallet, total_stocks_bonds]\n",
    "# Review the Python list savings_data\n",
    "print(savings_data)    "
   ]
  },
  {
   "cell_type": "markdown",
   "metadata": {},
   "source": [
    "#### Step 2: Use the `savings_data` list to create a Pandas DataFrame named `savings_df`, and then display this DataFrame. The function to create the DataFrame should take the following three parameters:\n",
    "\n",
    "- `savings_data`: Use the list that you just created.\n",
    "\n",
    "- `columns`: Set this parameter equal to a Python list with a single value called `amount`.\n",
    "\n",
    "- `index`: Set this parameter equal to a Python list with the values of `crypto` and `stock/bond`.\n"
   ]
  },
  {
   "cell_type": "code",
   "execution_count": 24,
   "metadata": {},
   "outputs": [
    {
     "data": {
      "text/html": [
       "<div>\n",
       "<style scoped>\n",
       "    .dataframe tbody tr th:only-of-type {\n",
       "        vertical-align: middle;\n",
       "    }\n",
       "\n",
       "    .dataframe tbody tr th {\n",
       "        vertical-align: top;\n",
       "    }\n",
       "\n",
       "    .dataframe thead th {\n",
       "        text-align: right;\n",
       "    }\n",
       "</style>\n",
       "<table border=\"1\" class=\"dataframe\">\n",
       "  <thead>\n",
       "    <tr style=\"text-align: right;\">\n",
       "      <th></th>\n",
       "      <th>amount</th>\n",
       "    </tr>\n",
       "  </thead>\n",
       "  <tbody>\n",
       "    <tr>\n",
       "      <th>crypto</th>\n",
       "      <td>36540.794</td>\n",
       "    </tr>\n",
       "    <tr>\n",
       "      <th>stock/bond</th>\n",
       "      <td>66030.700</td>\n",
       "    </tr>\n",
       "  </tbody>\n",
       "</table>\n",
       "</div>"
      ],
      "text/plain": [
       "               amount\n",
       "crypto      36540.794\n",
       "stock/bond  66030.700"
      ]
     },
     "execution_count": 24,
     "metadata": {},
     "output_type": "execute_result"
    }
   ],
   "source": [
    "# Create a Pandas DataFrame called savings_df \n",
    "savings_df = pd.DataFrame(savings_data,\n",
    "                          columns = ['amount'],\n",
    "                          index = ['crypto', 'stock/bond']\n",
    "                         )\n",
    "# Display the savings_df DataFrame\n",
    "savings_df"
   ]
  },
  {
   "cell_type": "markdown",
   "metadata": {},
   "source": [
    "#### Step 3: Use the `savings_df` DataFrame to plot a pie chart that visualizes the composition of the member’s portfolio. The y-axis of the pie chart uses `amount`. Be sure to add a title."
   ]
  },
  {
   "cell_type": "code",
   "execution_count": 25,
   "metadata": {},
   "outputs": [
    {
     "data": {
      "text/plain": [
       "array([<AxesSubplot:ylabel='amount'>], dtype=object)"
      ]
     },
     "execution_count": 25,
     "metadata": {},
     "output_type": "execute_result"
    },
    {
     "data": {
      "image/png": "[encoded data removed]",
      "text/plain": [
       "<Figure size 1080x648 with 1 Axes>"
      ]
     },
     "metadata": {},
     "output_type": "display_data"
    }
   ],
   "source": [
    "# Plot the total value of the member's portfolio (crypto and stock/bond) in a pie chart\n",
    "savings_df.plot(\n",
    "    kind=\"pie\",\n",
    "    title=\"Total Value of Portfolio\",\n",
    "    subplots=True,\n",
    "    figsize=(15,9)\n",
    ")"
   ]
  },
  {
   "cell_type": "markdown",
   "metadata": {},
   "source": [
    "#### Step 4: Using Python, determine if the current portfolio has enough to create an emergency fund as part of the member’s financial plan. Ideally, an emergency fund should equal to three times the member’s monthly income. To do this, implement the following steps:\n",
    "\n",
    "Step 1. Create a variable named `emergency_fund_value`, and set it equal to three times the value of the member’s `monthly_income` of 12000. (You set this earlier in Part 1).\n",
    "\n",
    "Step 2. Create a series of three if statements to determine if the member’s total portfolio is large enough to fund the emergency portfolio:\n",
    "\n",
    "* If the total portfolio value is greater than the emergency fund value, display a message congratulating the member for having enough money in this fund.\n",
    "\n",
    "* Else if the total portfolio value is equal to the emergency fund value, display a message congratulating the member on reaching this important financial goal.\n",
    "\n",
    "* Else the total portfolio is less than the emergency fund value, so display a message showing how many dollars away the member is from reaching the goal. (Subtract the total portfolio value from the emergency fund value.)\n"
   ]
  },
  {
   "cell_type": "markdown",
   "metadata": {},
   "source": [
    "##### Step 4-1: Create a variable named `emergency_fund_value`, and set it equal to three times the value of the member’s `monthly_income` of 12000. (You set this earlier in Part 1)."
   ]
  },
  {
   "cell_type": "code",
   "execution_count": 26,
   "metadata": {},
   "outputs": [
    {
     "name": "stdout",
     "output_type": "stream",
     "text": [
      "36000\n"
     ]
    }
   ],
   "source": [
    "# Create a variable named emergency_fund_value\n",
    "emergency_fund_value = monthly_income * 3\n",
    "print(emergency_fund_value)"
   ]
  },
  {
   "cell_type": "markdown",
   "metadata": {},
   "source": [
    "##### Step 4-2: Create a series of three if statements to determine if the member’s total portfolio is large enough to fund the emergency portfolio:\n",
    "\n",
    "* If the total portfolio value is greater than the emergency fund value, display a message congratulating the member for having enough money in this fund.\n",
    "\n",
    "* Else if the total portfolio value is equal to the emergency fund value, display a message congratulating the member on reaching this important financial goal.\n",
    "\n",
    "* Else the total portfolio is less than the emergency fund value, so display a message showing how many dollars away the member is from reaching the goal. (Subtract the total portfolio value from the emergency fund value.)"
   ]
  },
  {
   "cell_type": "code",
   "execution_count": 27,
   "metadata": {},
   "outputs": [
    {
     "name": "stdout",
     "output_type": "stream",
     "text": [
      "You have emergency funds!\n"
     ]
    }
   ],
   "source": [
    "# Evaluate the possibility of creating an emergency fund with 3 conditions:\n",
    "if total_portfolio > emergency_fund_value:\n",
    "    print(f'You have emergency funds!')\n",
    "elif total_portfolio==emergency_fund_value:\n",
    "    print(f'Congratulations on reaching this important financial goal!')\n",
    "else:\n",
    "    print(f'You are ${emergency_fund_value - total_portfolio} from reaching the your emergency fund goal.')\n"
   ]
  },
  {
   "cell_type": "markdown",
   "metadata": {},
   "source": [
    "## Part 2: Create a Financial Planner for Retirement"
   ]
  },
  {
   "cell_type": "markdown",
   "metadata": {},
   "source": [
    "### Create the Monte Carlo Simulation\n",
    "\n",
    "In this section, you’ll use the MCForecastTools library to create a Monte Carlo simulation for the member’s savings portfolio. To do this, complete the following steps:\n",
    "\n",
    "1. Make an API call via the Alpaca SDK to get 3 years of historical closing prices for a traditional 60/40 portfolio split: 60% stocks (SPY) and 40% bonds (AGG).\n",
    "\n",
    "2. Run a Monte Carlo simulation of 500 samples and 30 years for the 60/40 portfolio, and then plot the results.The following image shows the overlay line plot resulting from a simulation with these characteristics. However, because a random number generator is used to run each live Monte Carlo simulation, your image will differ slightly from this exact image:\n",
    "\n",
    "![A screenshot depicts the resulting plot.](Images/5-4-monte-carlo-line-plot.png)\n",
    "\n",
    "3. Plot the probability distribution of the Monte Carlo simulation. Plot the probability distribution of the Monte Carlo simulation. The following image shows the histogram plot resulting from a simulation with these characteristics. However, because a random number generator is used to run each live Monte Carlo simulation, your image will differ slightly from this exact image:\n",
    "\n",
    "![A screenshot depicts the histogram plot.](Images/5-4-monte-carlo-histogram.png)\n",
    "\n",
    "4. Generate the summary statistics for the Monte Carlo simulation.\n",
    "\n"
   ]
  },
  {
   "cell_type": "markdown",
   "metadata": {},
   "source": [
    "#### Step 1: Make an API call via the Alpaca SDK to get 3 years of historical closing prices for a traditional 60/40 portfolio split: 60% stocks (SPY) and 40% bonds (AGG)."
   ]
  },
  {
   "cell_type": "code",
   "execution_count": 40,
   "metadata": {},
   "outputs": [],
   "source": [
    "# Set start and end dates of 3 years back from your current date\n",
    "# Alternatively, you can use an end date of 2020-08-07 and work 3 years back from that date \n",
    "start_date = pd.Timestamp(\"2019-08-01\", tz=\"America/New_York\").isoformat()\n",
    "end_date = pd.Timestamp(\"2022-08-01\", tz=\"America/New_York\").isoformat()"
   ]
  },
  {
   "cell_type": "code",
   "execution_count": 43,
   "metadata": {},
   "outputs": [
    {
     "data": {
      "text/html": [
       "<div>\n",
       "<style scoped>\n",
       "    .dataframe tbody tr th:only-of-type {\n",
       "        vertical-align: middle;\n",
       "    }\n",
       "\n",
       "    .dataframe tbody tr th {\n",
       "        vertical-align: top;\n",
       "    }\n",
       "\n",
       "    .dataframe thead tr th {\n",
       "        text-align: left;\n",
       "    }\n",
       "\n",
       "    .dataframe thead tr:last-of-type th {\n",
       "        text-align: right;\n",
       "    }\n",
       "</style>\n",
       "<table border=\"1\" class=\"dataframe\">\n",
       "  <thead>\n",
       "    <tr>\n",
       "      <th></th>\n",
       "      <th colspan=\"7\" halign=\"left\">SPY</th>\n",
       "      <th colspan=\"7\" halign=\"left\">AGG</th>\n",
       "    </tr>\n",
       "    <tr>\n",
       "      <th></th>\n",
       "      <th>open</th>\n",
       "      <th>high</th>\n",
       "      <th>low</th>\n",
       "      <th>close</th>\n",
       "      <th>volume</th>\n",
       "      <th>trade_count</th>\n",
       "      <th>vwap</th>\n",
       "      <th>open</th>\n",
       "      <th>high</th>\n",
       "      <th>low</th>\n",
       "      <th>close</th>\n",
       "      <th>volume</th>\n",
       "      <th>trade_count</th>\n",
       "      <th>vwap</th>\n",
       "    </tr>\n",
       "    <tr>\n",
       "      <th>timestamp</th>\n",
       "      <th></th>\n",
       "      <th></th>\n",
       "      <th></th>\n",
       "      <th></th>\n",
       "      <th></th>\n",
       "      <th></th>\n",
       "      <th></th>\n",
       "      <th></th>\n",
       "      <th></th>\n",
       "      <th></th>\n",
       "      <th></th>\n",
       "      <th></th>\n",
       "      <th></th>\n",
       "      <th></th>\n",
       "    </tr>\n",
       "  </thead>\n",
       "  <tbody>\n",
       "    <tr>\n",
       "      <th>2022-07-26 04:00:00+00:00</th>\n",
       "      <td>393.84</td>\n",
       "      <td>394.06</td>\n",
       "      <td>389.95</td>\n",
       "      <td>390.89</td>\n",
       "      <td>52767480</td>\n",
       "      <td>436591</td>\n",
       "      <td>391.857608</td>\n",
       "      <td>103.44</td>\n",
       "      <td>103.510</td>\n",
       "      <td>102.960</td>\n",
       "      <td>102.96</td>\n",
       "      <td>6203148</td>\n",
       "      <td>17921</td>\n",
       "      <td>103.179189</td>\n",
       "    </tr>\n",
       "    <tr>\n",
       "      <th>2022-07-27 04:00:00+00:00</th>\n",
       "      <td>394.43</td>\n",
       "      <td>402.88</td>\n",
       "      <td>394.05</td>\n",
       "      <td>401.04</td>\n",
       "      <td>81319074</td>\n",
       "      <td>587430</td>\n",
       "      <td>398.307462</td>\n",
       "      <td>103.19</td>\n",
       "      <td>103.640</td>\n",
       "      <td>103.180</td>\n",
       "      <td>103.32</td>\n",
       "      <td>5098243</td>\n",
       "      <td>18390</td>\n",
       "      <td>103.358408</td>\n",
       "    </tr>\n",
       "    <tr>\n",
       "      <th>2022-07-28 04:00:00+00:00</th>\n",
       "      <td>401.84</td>\n",
       "      <td>406.80</td>\n",
       "      <td>398.15</td>\n",
       "      <td>406.07</td>\n",
       "      <td>73966563</td>\n",
       "      <td>570079</td>\n",
       "      <td>403.644305</td>\n",
       "      <td>104.09</td>\n",
       "      <td>104.205</td>\n",
       "      <td>103.835</td>\n",
       "      <td>104.06</td>\n",
       "      <td>6473834</td>\n",
       "      <td>23665</td>\n",
       "      <td>104.024178</td>\n",
       "    </tr>\n",
       "    <tr>\n",
       "      <th>2022-07-29 04:00:00+00:00</th>\n",
       "      <td>407.70</td>\n",
       "      <td>413.02</td>\n",
       "      <td>406.77</td>\n",
       "      <td>411.99</td>\n",
       "      <td>86779944</td>\n",
       "      <td>544810</td>\n",
       "      <td>410.668581</td>\n",
       "      <td>103.94</td>\n",
       "      <td>104.395</td>\n",
       "      <td>103.830</td>\n",
       "      <td>104.07</td>\n",
       "      <td>6523118</td>\n",
       "      <td>22800</td>\n",
       "      <td>104.156714</td>\n",
       "    </tr>\n",
       "    <tr>\n",
       "      <th>2022-08-01 04:00:00+00:00</th>\n",
       "      <td>409.16</td>\n",
       "      <td>413.41</td>\n",
       "      <td>408.40</td>\n",
       "      <td>410.77</td>\n",
       "      <td>69633616</td>\n",
       "      <td>516221</td>\n",
       "      <td>411.079113</td>\n",
       "      <td>103.97</td>\n",
       "      <td>104.305</td>\n",
       "      <td>103.910</td>\n",
       "      <td>104.23</td>\n",
       "      <td>7485387</td>\n",
       "      <td>31215</td>\n",
       "      <td>104.156518</td>\n",
       "    </tr>\n",
       "  </tbody>\n",
       "</table>\n",
       "</div>"
      ],
      "text/plain": [
       "                              SPY                                    \\\n",
       "                             open    high     low   close    volume   \n",
       "timestamp                                                             \n",
       "2022-07-26 04:00:00+00:00  393.84  394.06  389.95  390.89  52767480   \n",
       "2022-07-27 04:00:00+00:00  394.43  402.88  394.05  401.04  81319074   \n",
       "2022-07-28 04:00:00+00:00  401.84  406.80  398.15  406.07  73966563   \n",
       "2022-07-29 04:00:00+00:00  407.70  413.02  406.77  411.99  86779944   \n",
       "2022-08-01 04:00:00+00:00  409.16  413.41  408.40  410.77  69633616   \n",
       "\n",
       "                                                      AGG                    \\\n",
       "                          trade_count        vwap    open     high      low   \n",
       "timestamp                                                                     \n",
       "2022-07-26 04:00:00+00:00      436591  391.857608  103.44  103.510  102.960   \n",
       "2022-07-27 04:00:00+00:00      587430  398.307462  103.19  103.640  103.180   \n",
       "2022-07-28 04:00:00+00:00      570079  403.644305  104.09  104.205  103.835   \n",
       "2022-07-29 04:00:00+00:00      544810  410.668581  103.94  104.395  103.830   \n",
       "2022-08-01 04:00:00+00:00      516221  411.079113  103.97  104.305  103.910   \n",
       "\n",
       "                                                                    \n",
       "                            close   volume trade_count        vwap  \n",
       "timestamp                                                           \n",
       "2022-07-26 04:00:00+00:00  102.96  6203148       17921  103.179189  \n",
       "2022-07-27 04:00:00+00:00  103.32  5098243       18390  103.358408  \n",
       "2022-07-28 04:00:00+00:00  104.06  6473834       23665  104.024178  \n",
       "2022-07-29 04:00:00+00:00  104.07  6523118       22800  104.156714  \n",
       "2022-08-01 04:00:00+00:00  104.23  7485387       31215  104.156518  "
      ]
     },
     "execution_count": 43,
     "metadata": {},
     "output_type": "execute_result"
    }
   ],
   "source": [
    "# Use the Alpaca get_bars function to make the API call to get the 3 years worth of pricing data\n",
    "# The tickers and timeframe parameters should have been set in Part 1 of this activity \n",
    "# The start and end dates should be updated with the information set above\n",
    "# Remember to add the df property to the end of the call so the response is returned as a DataFrame\n",
    "\n",
    "\n",
    "three_yr_portfolio = alpaca.get_bars(\n",
    "    tickers,\n",
    "    timeframe,\n",
    "    start = start_date, \n",
    "    end = end_date\n",
    ").df\n",
    "\n",
    "# Reorganize the DataFrame\n",
    "# Separate ticker data\n",
    "\n",
    "SPY = three_yr_portfolio[three_yr_portfolio['symbol']=='SPY'].drop('symbol', axis=1)\n",
    "AGG = three_yr_portfolio[three_yr_portfolio['symbol']=='AGG'].drop('symbol', axis=1)\n",
    "\n",
    "# Concatenate the ticker DataFrames\n",
    "three_yr_portfolio = pd.concat([SPY, AGG], axis=1, keys=[\"SPY\", \"AGG\"])\n",
    "\n",
    "# Display both the first and last five rows of the DataFrame\n",
    "three_yr_portfolio.head()\n",
    "three_yr_portfolio.tail()\n"
   ]
  },
  {
   "cell_type": "markdown",
   "metadata": {},
   "source": [
    "#### Step 2: Run a Monte Carlo simulation of 500 samples and 30 years for the 60/40 portfolio, and then plot the results."
   ]
  },
  {
   "cell_type": "code",
   "execution_count": 49,
   "metadata": {},
   "outputs": [
    {
     "data": {
      "text/html": [
       "<div>\n",
       "<style scoped>\n",
       "    .dataframe tbody tr th:only-of-type {\n",
       "        vertical-align: middle;\n",
       "    }\n",
       "\n",
       "    .dataframe tbody tr th {\n",
       "        vertical-align: top;\n",
       "    }\n",
       "\n",
       "    .dataframe thead tr th {\n",
       "        text-align: left;\n",
       "    }\n",
       "\n",
       "    .dataframe thead tr:last-of-type th {\n",
       "        text-align: right;\n",
       "    }\n",
       "</style>\n",
       "<table border=\"1\" class=\"dataframe\">\n",
       "  <thead>\n",
       "    <tr>\n",
       "      <th></th>\n",
       "      <th colspan=\"8\" halign=\"left\">SPY</th>\n",
       "      <th colspan=\"8\" halign=\"left\">AGG</th>\n",
       "    </tr>\n",
       "    <tr>\n",
       "      <th></th>\n",
       "      <th>open</th>\n",
       "      <th>high</th>\n",
       "      <th>low</th>\n",
       "      <th>close</th>\n",
       "      <th>volume</th>\n",
       "      <th>trade_count</th>\n",
       "      <th>vwap</th>\n",
       "      <th>daily_return</th>\n",
       "      <th>open</th>\n",
       "      <th>high</th>\n",
       "      <th>low</th>\n",
       "      <th>close</th>\n",
       "      <th>volume</th>\n",
       "      <th>trade_count</th>\n",
       "      <th>vwap</th>\n",
       "      <th>daily_return</th>\n",
       "    </tr>\n",
       "    <tr>\n",
       "      <th>timestamp</th>\n",
       "      <th></th>\n",
       "      <th></th>\n",
       "      <th></th>\n",
       "      <th></th>\n",
       "      <th></th>\n",
       "      <th></th>\n",
       "      <th></th>\n",
       "      <th></th>\n",
       "      <th></th>\n",
       "      <th></th>\n",
       "      <th></th>\n",
       "      <th></th>\n",
       "      <th></th>\n",
       "      <th></th>\n",
       "      <th></th>\n",
       "      <th></th>\n",
       "    </tr>\n",
       "  </thead>\n",
       "  <tbody>\n",
       "    <tr>\n",
       "      <th>2019-08-01 04:00:00+00:00</th>\n",
       "      <td>297.56</td>\n",
       "      <td>300.87</td>\n",
       "      <td>293.96</td>\n",
       "      <td>294.84</td>\n",
       "      <td>142653060</td>\n",
       "      <td>771413</td>\n",
       "      <td>296.650886</td>\n",
       "      <td>NaN</td>\n",
       "      <td>111.34</td>\n",
       "      <td>111.95</td>\n",
       "      <td>111.26</td>\n",
       "      <td>111.91</td>\n",
       "      <td>5709211</td>\n",
       "      <td>22712</td>\n",
       "      <td>111.700343</td>\n",
       "      <td>NaN</td>\n",
       "    </tr>\n",
       "    <tr>\n",
       "      <th>2019-08-02 04:00:00+00:00</th>\n",
       "      <td>293.86</td>\n",
       "      <td>294.12</td>\n",
       "      <td>290.90</td>\n",
       "      <td>292.62</td>\n",
       "      <td>118248370</td>\n",
       "      <td>552082</td>\n",
       "      <td>292.544668</td>\n",
       "      <td>-0.007530</td>\n",
       "      <td>111.93</td>\n",
       "      <td>112.04</td>\n",
       "      <td>111.82</td>\n",
       "      <td>111.95</td>\n",
       "      <td>3293739</td>\n",
       "      <td>16662</td>\n",
       "      <td>111.917417</td>\n",
       "      <td>0.000357</td>\n",
       "    </tr>\n",
       "    <tr>\n",
       "      <th>2019-08-05 04:00:00+00:00</th>\n",
       "      <td>288.07</td>\n",
       "      <td>288.21</td>\n",
       "      <td>281.72</td>\n",
       "      <td>283.82</td>\n",
       "      <td>178747597</td>\n",
       "      <td>789975</td>\n",
       "      <td>285.254711</td>\n",
       "      <td>-0.030073</td>\n",
       "      <td>112.28</td>\n",
       "      <td>112.58</td>\n",
       "      <td>112.25</td>\n",
       "      <td>112.44</td>\n",
       "      <td>7626664</td>\n",
       "      <td>26007</td>\n",
       "      <td>112.454502</td>\n",
       "      <td>0.004377</td>\n",
       "    </tr>\n",
       "    <tr>\n",
       "      <th>2019-08-06 04:00:00+00:00</th>\n",
       "      <td>285.93</td>\n",
       "      <td>288.04</td>\n",
       "      <td>284.28</td>\n",
       "      <td>287.80</td>\n",
       "      <td>120763412</td>\n",
       "      <td>587808</td>\n",
       "      <td>286.234055</td>\n",
       "      <td>0.014023</td>\n",
       "      <td>112.47</td>\n",
       "      <td>112.76</td>\n",
       "      <td>112.40</td>\n",
       "      <td>112.74</td>\n",
       "      <td>5151810</td>\n",
       "      <td>20819</td>\n",
       "      <td>112.618811</td>\n",
       "      <td>0.002668</td>\n",
       "    </tr>\n",
       "    <tr>\n",
       "      <th>2019-08-07 04:00:00+00:00</th>\n",
       "      <td>284.40</td>\n",
       "      <td>288.82</td>\n",
       "      <td>282.04</td>\n",
       "      <td>287.97</td>\n",
       "      <td>143723012</td>\n",
       "      <td>668446</td>\n",
       "      <td>286.311024</td>\n",
       "      <td>0.000591</td>\n",
       "      <td>113.17</td>\n",
       "      <td>113.29</td>\n",
       "      <td>112.61</td>\n",
       "      <td>112.68</td>\n",
       "      <td>9156551</td>\n",
       "      <td>37550</td>\n",
       "      <td>112.959111</td>\n",
       "      <td>-0.000532</td>\n",
       "    </tr>\n",
       "  </tbody>\n",
       "</table>\n",
       "</div>"
      ],
      "text/plain": [
       "                              SPY                                     \\\n",
       "                             open    high     low   close     volume   \n",
       "timestamp                                                              \n",
       "2019-08-01 04:00:00+00:00  297.56  300.87  293.96  294.84  142653060   \n",
       "2019-08-02 04:00:00+00:00  293.86  294.12  290.90  292.62  118248370   \n",
       "2019-08-05 04:00:00+00:00  288.07  288.21  281.72  283.82  178747597   \n",
       "2019-08-06 04:00:00+00:00  285.93  288.04  284.28  287.80  120763412   \n",
       "2019-08-07 04:00:00+00:00  284.40  288.82  282.04  287.97  143723012   \n",
       "\n",
       "                                                                   AGG  \\\n",
       "                          trade_count        vwap daily_return    open   \n",
       "timestamp                                                                \n",
       "2019-08-01 04:00:00+00:00      771413  296.650886          NaN  111.34   \n",
       "2019-08-02 04:00:00+00:00      552082  292.544668    -0.007530  111.93   \n",
       "2019-08-05 04:00:00+00:00      789975  285.254711    -0.030073  112.28   \n",
       "2019-08-06 04:00:00+00:00      587808  286.234055     0.014023  112.47   \n",
       "2019-08-07 04:00:00+00:00      668446  286.311024     0.000591  113.17   \n",
       "\n",
       "                                                                        \\\n",
       "                             high     low   close   volume trade_count   \n",
       "timestamp                                                                \n",
       "2019-08-01 04:00:00+00:00  111.95  111.26  111.91  5709211       22712   \n",
       "2019-08-02 04:00:00+00:00  112.04  111.82  111.95  3293739       16662   \n",
       "2019-08-05 04:00:00+00:00  112.58  112.25  112.44  7626664       26007   \n",
       "2019-08-06 04:00:00+00:00  112.76  112.40  112.74  5151810       20819   \n",
       "2019-08-07 04:00:00+00:00  113.29  112.61  112.68  9156551       37550   \n",
       "\n",
       "                                                    \n",
       "                                 vwap daily_return  \n",
       "timestamp                                           \n",
       "2019-08-01 04:00:00+00:00  111.700343          NaN  \n",
       "2019-08-02 04:00:00+00:00  111.917417     0.000357  \n",
       "2019-08-05 04:00:00+00:00  112.454502     0.004377  \n",
       "2019-08-06 04:00:00+00:00  112.618811     0.002668  \n",
       "2019-08-07 04:00:00+00:00  112.959111    -0.000532  "
      ]
     },
     "execution_count": 49,
     "metadata": {},
     "output_type": "execute_result"
    }
   ],
   "source": [
    "# Configure the Monte Carlo simulation to forecast 30 years cumulative returns\n",
    "# The weights should be split 40% to AGG and 60% to SPY.\n",
    "# Run 500 samples.\n",
    "MC_30year = MCSimulation(\n",
    "    portfolio_data = three_yr_portfolio,\n",
    "    weights = [.40,.60],\n",
    "    num_simulation = 500,\n",
    "    num_trading_days = 252*30\n",
    ")\n",
    "# Review the simulation input data\n",
    "MC_30year.portfolio_data.head()"
   ]
  },
  {
   "cell_type": "code",
   "execution_count": 48,
   "metadata": {},
   "outputs": [
    {
     "name": "stdout",
     "output_type": "stream",
     "text": [
      "Running Monte Carlo simulation number 0.\n",
      "Running Monte Carlo simulation number 10.\n",
      "Running Monte Carlo simulation number 20.\n",
      "Running Monte Carlo simulation number 30.\n",
      "Running Monte Carlo simulation number 40.\n",
      "Running Monte Carlo simulation number 50.\n",
      "Running Monte Carlo simulation number 60.\n",
      "Running Monte Carlo simulation number 70.\n",
      "Running Monte Carlo simulation number 80.\n",
      "Running Monte Carlo simulation number 90.\n",
      "Running Monte Carlo simulation number 100.\n"
     ]
    },
    {
     "name": "stderr",
     "output_type": "stream",
     "text": [
      "/Users/joshpak/Desktop/Challenge5/MCForecastTools.py:117: PerformanceWarning: DataFrame is highly fragmented.  This is usually the result of calling `frame.insert` many times, which has poor performance.  Consider joining all columns at once using pd.concat(axis=1) instead.  To get a de-fragmented frame, use `newframe = frame.copy()`\n",
      "  portfolio_cumulative_returns[n] = (1 + sim_df.fillna(0)).cumprod()\n"
     ]
    },
    {
     "name": "stdout",
     "output_type": "stream",
     "text": [
      "Running Monte Carlo simulation number 110.\n",
      "Running Monte Carlo simulation number 120.\n",
      "Running Monte Carlo simulation number 130.\n",
      "Running Monte Carlo simulation number 140.\n",
      "Running Monte Carlo simulation number 150.\n",
      "Running Monte Carlo simulation number 160.\n",
      "Running Monte Carlo simulation number 170.\n",
      "Running Monte Carlo simulation number 180.\n",
      "Running Monte Carlo simulation number 190.\n",
      "Running Monte Carlo simulation number 200.\n",
      "Running Monte Carlo simulation number 210.\n",
      "Running Monte Carlo simulation number 220.\n",
      "Running Monte Carlo simulation number 230.\n",
      "Running Monte Carlo simulation number 240.\n",
      "Running Monte Carlo simulation number 250.\n",
      "Running Monte Carlo simulation number 260.\n",
      "Running Monte Carlo simulation number 270.\n",
      "Running Monte Carlo simulation number 280.\n",
      "Running Monte Carlo simulation number 290.\n",
      "Running Monte Carlo simulation number 300.\n",
      "Running Monte Carlo simulation number 310.\n",
      "Running Monte Carlo simulation number 320.\n",
      "Running Monte Carlo simulation number 330.\n",
      "Running Monte Carlo simulation number 340.\n",
      "Running Monte Carlo simulation number 350.\n",
      "Running Monte Carlo simulation number 360.\n",
      "Running Monte Carlo simulation number 370.\n",
      "Running Monte Carlo simulation number 380.\n",
      "Running Monte Carlo simulation number 390.\n",
      "Running Monte Carlo simulation number 400.\n",
      "Running Monte Carlo simulation number 410.\n",
      "Running Monte Carlo simulation number 420.\n",
      "Running Monte Carlo simulation number 430.\n",
      "Running Monte Carlo simulation number 440.\n",
      "Running Monte Carlo simulation number 450.\n",
      "Running Monte Carlo simulation number 460.\n",
      "Running Monte Carlo simulation number 470.\n",
      "Running Monte Carlo simulation number 480.\n",
      "Running Monte Carlo simulation number 490.\n"
     ]
    },
    {
     "data": {
      "text/html": [
       "<div>\n",
       "<style scoped>\n",
       "    .dataframe tbody tr th:only-of-type {\n",
       "        vertical-align: middle;\n",
       "    }\n",
       "\n",
       "    .dataframe tbody tr th {\n",
       "        vertical-align: top;\n",
       "    }\n",
       "\n",
       "    .dataframe thead th {\n",
       "        text-align: right;\n",
       "    }\n",
       "</style>\n",
       "<table border=\"1\" class=\"dataframe\">\n",
       "  <thead>\n",
       "    <tr style=\"text-align: right;\">\n",
       "      <th></th>\n",
       "      <th>0</th>\n",
       "      <th>1</th>\n",
       "      <th>2</th>\n",
       "      <th>3</th>\n",
       "      <th>4</th>\n",
       "      <th>5</th>\n",
       "      <th>6</th>\n",
       "      <th>7</th>\n",
       "      <th>8</th>\n",
       "      <th>9</th>\n",
       "      <th>...</th>\n",
       "      <th>490</th>\n",
       "      <th>491</th>\n",
       "      <th>492</th>\n",
       "      <th>493</th>\n",
       "      <th>494</th>\n",
       "      <th>495</th>\n",
       "      <th>496</th>\n",
       "      <th>497</th>\n",
       "      <th>498</th>\n",
       "      <th>499</th>\n",
       "    </tr>\n",
       "  </thead>\n",
       "  <tbody>\n",
       "    <tr>\n",
       "      <th>0</th>\n",
       "      <td>1.000000</td>\n",
       "      <td>1.000000</td>\n",
       "      <td>1.000000</td>\n",
       "      <td>1.000000</td>\n",
       "      <td>1.000000</td>\n",
       "      <td>1.000000</td>\n",
       "      <td>1.000000</td>\n",
       "      <td>1.000000</td>\n",
       "      <td>1.000000</td>\n",
       "      <td>1.000000</td>\n",
       "      <td>...</td>\n",
       "      <td>1.000000</td>\n",
       "      <td>1.000000</td>\n",
       "      <td>1.000000</td>\n",
       "      <td>1.000000</td>\n",
       "      <td>1.000000</td>\n",
       "      <td>1.000000</td>\n",
       "      <td>1.000000</td>\n",
       "      <td>1.000000</td>\n",
       "      <td>1.000000</td>\n",
       "      <td>1.000000</td>\n",
       "    </tr>\n",
       "    <tr>\n",
       "      <th>1</th>\n",
       "      <td>1.000900</td>\n",
       "      <td>1.003260</td>\n",
       "      <td>0.997643</td>\n",
       "      <td>0.992114</td>\n",
       "      <td>0.998263</td>\n",
       "      <td>0.993705</td>\n",
       "      <td>0.993745</td>\n",
       "      <td>0.995395</td>\n",
       "      <td>1.008208</td>\n",
       "      <td>1.002599</td>\n",
       "      <td>...</td>\n",
       "      <td>1.012990</td>\n",
       "      <td>1.011918</td>\n",
       "      <td>0.998487</td>\n",
       "      <td>0.995765</td>\n",
       "      <td>0.997558</td>\n",
       "      <td>1.000673</td>\n",
       "      <td>0.995206</td>\n",
       "      <td>1.007288</td>\n",
       "      <td>0.999273</td>\n",
       "      <td>1.015973</td>\n",
       "    </tr>\n",
       "    <tr>\n",
       "      <th>2</th>\n",
       "      <td>1.010381</td>\n",
       "      <td>1.020388</td>\n",
       "      <td>0.995891</td>\n",
       "      <td>0.992037</td>\n",
       "      <td>1.010961</td>\n",
       "      <td>0.996810</td>\n",
       "      <td>0.998129</td>\n",
       "      <td>0.997402</td>\n",
       "      <td>1.005606</td>\n",
       "      <td>0.996616</td>\n",
       "      <td>...</td>\n",
       "      <td>1.019681</td>\n",
       "      <td>1.015359</td>\n",
       "      <td>0.992448</td>\n",
       "      <td>1.002855</td>\n",
       "      <td>0.999255</td>\n",
       "      <td>1.008378</td>\n",
       "      <td>0.993305</td>\n",
       "      <td>1.008653</td>\n",
       "      <td>0.991881</td>\n",
       "      <td>1.017082</td>\n",
       "    </tr>\n",
       "    <tr>\n",
       "      <th>3</th>\n",
       "      <td>1.014121</td>\n",
       "      <td>1.014781</td>\n",
       "      <td>1.002446</td>\n",
       "      <td>0.986720</td>\n",
       "      <td>0.997620</td>\n",
       "      <td>0.992300</td>\n",
       "      <td>1.001701</td>\n",
       "      <td>1.002547</td>\n",
       "      <td>1.007353</td>\n",
       "      <td>0.989278</td>\n",
       "      <td>...</td>\n",
       "      <td>1.006508</td>\n",
       "      <td>1.006466</td>\n",
       "      <td>0.991423</td>\n",
       "      <td>0.996906</td>\n",
       "      <td>1.001392</td>\n",
       "      <td>0.997507</td>\n",
       "      <td>0.994999</td>\n",
       "      <td>1.011422</td>\n",
       "      <td>0.996542</td>\n",
       "      <td>1.017229</td>\n",
       "    </tr>\n",
       "    <tr>\n",
       "      <th>4</th>\n",
       "      <td>1.017800</td>\n",
       "      <td>0.998619</td>\n",
       "      <td>1.000348</td>\n",
       "      <td>0.983438</td>\n",
       "      <td>1.003587</td>\n",
       "      <td>0.989379</td>\n",
       "      <td>0.998356</td>\n",
       "      <td>1.001469</td>\n",
       "      <td>1.006296</td>\n",
       "      <td>0.991678</td>\n",
       "      <td>...</td>\n",
       "      <td>1.013023</td>\n",
       "      <td>1.009686</td>\n",
       "      <td>0.988382</td>\n",
       "      <td>0.988366</td>\n",
       "      <td>0.995179</td>\n",
       "      <td>0.990109</td>\n",
       "      <td>1.004961</td>\n",
       "      <td>1.006308</td>\n",
       "      <td>1.010226</td>\n",
       "      <td>1.022866</td>\n",
       "    </tr>\n",
       "    <tr>\n",
       "      <th>...</th>\n",
       "      <td>...</td>\n",
       "      <td>...</td>\n",
       "      <td>...</td>\n",
       "      <td>...</td>\n",
       "      <td>...</td>\n",
       "      <td>...</td>\n",
       "      <td>...</td>\n",
       "      <td>...</td>\n",
       "      <td>...</td>\n",
       "      <td>...</td>\n",
       "      <td>...</td>\n",
       "      <td>...</td>\n",
       "      <td>...</td>\n",
       "      <td>...</td>\n",
       "      <td>...</td>\n",
       "      <td>...</td>\n",
       "      <td>...</td>\n",
       "      <td>...</td>\n",
       "      <td>...</td>\n",
       "      <td>...</td>\n",
       "      <td>...</td>\n",
       "    </tr>\n",
       "    <tr>\n",
       "      <th>7556</th>\n",
       "      <td>4.973994</td>\n",
       "      <td>6.993333</td>\n",
       "      <td>2.997865</td>\n",
       "      <td>3.836774</td>\n",
       "      <td>7.457372</td>\n",
       "      <td>1.262096</td>\n",
       "      <td>1.503285</td>\n",
       "      <td>2.415501</td>\n",
       "      <td>3.108727</td>\n",
       "      <td>3.009948</td>\n",
       "      <td>...</td>\n",
       "      <td>4.945310</td>\n",
       "      <td>1.981157</td>\n",
       "      <td>1.984360</td>\n",
       "      <td>2.167508</td>\n",
       "      <td>10.919708</td>\n",
       "      <td>5.515857</td>\n",
       "      <td>1.650295</td>\n",
       "      <td>4.446637</td>\n",
       "      <td>5.501215</td>\n",
       "      <td>5.452222</td>\n",
       "    </tr>\n",
       "    <tr>\n",
       "      <th>7557</th>\n",
       "      <td>5.001799</td>\n",
       "      <td>6.975070</td>\n",
       "      <td>3.000719</td>\n",
       "      <td>3.825486</td>\n",
       "      <td>7.511051</td>\n",
       "      <td>1.272028</td>\n",
       "      <td>1.509667</td>\n",
       "      <td>2.441601</td>\n",
       "      <td>3.092370</td>\n",
       "      <td>2.995796</td>\n",
       "      <td>...</td>\n",
       "      <td>4.947862</td>\n",
       "      <td>1.979298</td>\n",
       "      <td>1.979902</td>\n",
       "      <td>2.161850</td>\n",
       "      <td>10.880164</td>\n",
       "      <td>5.558540</td>\n",
       "      <td>1.669666</td>\n",
       "      <td>4.430508</td>\n",
       "      <td>5.462441</td>\n",
       "      <td>5.428564</td>\n",
       "    </tr>\n",
       "    <tr>\n",
       "      <th>7558</th>\n",
       "      <td>4.983680</td>\n",
       "      <td>6.959383</td>\n",
       "      <td>2.994791</td>\n",
       "      <td>3.816950</td>\n",
       "      <td>7.526724</td>\n",
       "      <td>1.272991</td>\n",
       "      <td>1.533269</td>\n",
       "      <td>2.444709</td>\n",
       "      <td>3.091437</td>\n",
       "      <td>2.953766</td>\n",
       "      <td>...</td>\n",
       "      <td>4.968065</td>\n",
       "      <td>1.984960</td>\n",
       "      <td>1.980373</td>\n",
       "      <td>2.169178</td>\n",
       "      <td>10.893504</td>\n",
       "      <td>5.552068</td>\n",
       "      <td>1.659840</td>\n",
       "      <td>4.405636</td>\n",
       "      <td>5.445029</td>\n",
       "      <td>5.468996</td>\n",
       "    </tr>\n",
       "    <tr>\n",
       "      <th>7559</th>\n",
       "      <td>5.014106</td>\n",
       "      <td>6.883505</td>\n",
       "      <td>2.983685</td>\n",
       "      <td>3.838462</td>\n",
       "      <td>7.587549</td>\n",
       "      <td>1.262942</td>\n",
       "      <td>1.540745</td>\n",
       "      <td>2.484796</td>\n",
       "      <td>3.077856</td>\n",
       "      <td>2.931613</td>\n",
       "      <td>...</td>\n",
       "      <td>4.925979</td>\n",
       "      <td>1.986534</td>\n",
       "      <td>1.977468</td>\n",
       "      <td>2.176971</td>\n",
       "      <td>10.808680</td>\n",
       "      <td>5.560372</td>\n",
       "      <td>1.663466</td>\n",
       "      <td>4.452225</td>\n",
       "      <td>5.468452</td>\n",
       "      <td>5.472220</td>\n",
       "    </tr>\n",
       "    <tr>\n",
       "      <th>7560</th>\n",
       "      <td>4.993716</td>\n",
       "      <td>6.839144</td>\n",
       "      <td>2.988487</td>\n",
       "      <td>3.867827</td>\n",
       "      <td>7.594816</td>\n",
       "      <td>1.274164</td>\n",
       "      <td>1.541187</td>\n",
       "      <td>2.491544</td>\n",
       "      <td>3.072389</td>\n",
       "      <td>2.923526</td>\n",
       "      <td>...</td>\n",
       "      <td>4.932318</td>\n",
       "      <td>2.007806</td>\n",
       "      <td>1.966416</td>\n",
       "      <td>2.163648</td>\n",
       "      <td>10.802681</td>\n",
       "      <td>5.613952</td>\n",
       "      <td>1.649436</td>\n",
       "      <td>4.486839</td>\n",
       "      <td>5.473037</td>\n",
       "      <td>5.463407</td>\n",
       "    </tr>\n",
       "  </tbody>\n",
       "</table>\n",
       "<p>7561 rows × 500 columns</p>\n",
       "</div>"
      ],
      "text/plain": [
       "           0         1         2         3         4         5         6    \\\n",
       "0     1.000000  1.000000  1.000000  1.000000  1.000000  1.000000  1.000000   \n",
       "1     1.000900  1.003260  0.997643  0.992114  0.998263  0.993705  0.993745   \n",
       "2     1.010381  1.020388  0.995891  0.992037  1.010961  0.996810  0.998129   \n",
       "3     1.014121  1.014781  1.002446  0.986720  0.997620  0.992300  1.001701   \n",
       "4     1.017800  0.998619  1.000348  0.983438  1.003587  0.989379  0.998356   \n",
       "...        ...       ...       ...       ...       ...       ...       ...   \n",
       "7556  4.973994  6.993333  2.997865  3.836774  7.457372  1.262096  1.503285   \n",
       "7557  5.001799  6.975070  3.000719  3.825486  7.511051  1.272028  1.509667   \n",
       "7558  4.983680  6.959383  2.994791  3.816950  7.526724  1.272991  1.533269   \n",
       "7559  5.014106  6.883505  2.983685  3.838462  7.587549  1.262942  1.540745   \n",
       "7560  4.993716  6.839144  2.988487  3.867827  7.594816  1.274164  1.541187   \n",
       "\n",
       "           7         8         9    ...       490       491       492  \\\n",
       "0     1.000000  1.000000  1.000000  ...  1.000000  1.000000  1.000000   \n",
       "1     0.995395  1.008208  1.002599  ...  1.012990  1.011918  0.998487   \n",
       "2     0.997402  1.005606  0.996616  ...  1.019681  1.015359  0.992448   \n",
       "3     1.002547  1.007353  0.989278  ...  1.006508  1.006466  0.991423   \n",
       "4     1.001469  1.006296  0.991678  ...  1.013023  1.009686  0.988382   \n",
       "...        ...       ...       ...  ...       ...       ...       ...   \n",
       "7556  2.415501  3.108727  3.009948  ...  4.945310  1.981157  1.984360   \n",
       "7557  2.441601  3.092370  2.995796  ...  4.947862  1.979298  1.979902   \n",
       "7558  2.444709  3.091437  2.953766  ...  4.968065  1.984960  1.980373   \n",
       "7559  2.484796  3.077856  2.931613  ...  4.925979  1.986534  1.977468   \n",
       "7560  2.491544  3.072389  2.923526  ...  4.932318  2.007806  1.966416   \n",
       "\n",
       "           493        494       495       496       497       498       499  \n",
       "0     1.000000   1.000000  1.000000  1.000000  1.000000  1.000000  1.000000  \n",
       "1     0.995765   0.997558  1.000673  0.995206  1.007288  0.999273  1.015973  \n",
       "2     1.002855   0.999255  1.008378  0.993305  1.008653  0.991881  1.017082  \n",
       "3     0.996906   1.001392  0.997507  0.994999  1.011422  0.996542  1.017229  \n",
       "4     0.988366   0.995179  0.990109  1.004961  1.006308  1.010226  1.022866  \n",
       "...        ...        ...       ...       ...       ...       ...       ...  \n",
       "7556  2.167508  10.919708  5.515857  1.650295  4.446637  5.501215  5.452222  \n",
       "7557  2.161850  10.880164  5.558540  1.669666  4.430508  5.462441  5.428564  \n",
       "7558  2.169178  10.893504  5.552068  1.659840  4.405636  5.445029  5.468996  \n",
       "7559  2.176971  10.808680  5.560372  1.663466  4.452225  5.468452  5.472220  \n",
       "7560  2.163648  10.802681  5.613952  1.649436  4.486839  5.473037  5.463407  \n",
       "\n",
       "[7561 rows x 500 columns]"
      ]
     },
     "execution_count": 48,
     "metadata": {},
     "output_type": "execute_result"
    }
   ],
   "source": [
    "# Run the Monte Carlo simulation to forecast 30 years cumulative returns\n",
    "MC_30year.calc_cumulative_return()\n"
   ]
  },
  {
   "cell_type": "code",
   "execution_count": 56,
   "metadata": {},
   "outputs": [
    {
     "data": {
      "image/png": "[encoded data removed]",
      "text/plain": [
       "<Figure size 432x288 with 1 Axes>"
      ]
     },
     "metadata": {
      "needs_background": "light"
     },
     "output_type": "display_data"
    }
   ],
   "source": [
    "# Visualize the 30-year Monte Carlo simulation by creating an\n",
    "# overlay line plot\n",
    "MC_sim_line_plot = MC_30year.plot_simulation()"
   ]
  },
  {
   "cell_type": "markdown",
   "metadata": {},
   "source": [
    "#### Step 3: Plot the probability distribution of the Monte Carlo simulation."
   ]
  },
  {
   "cell_type": "code",
   "execution_count": 57,
   "metadata": {},
   "outputs": [
    {
     "data": {
      "image/png": "[encoded data removed]",
      "text/plain": [
       "<Figure size 432x288 with 1 Axes>"
      ]
     },
     "metadata": {
      "needs_background": "light"
     },
     "output_type": "display_data"
    }
   ],
   "source": [
    "# Visualize the probability distribution of the 30-year Monte Carlo simulation \n",
    "# by plotting a histogram\n",
    "MC_sim_dist_plot = MC_30year.plot_distribution()"
   ]
  },
  {
   "cell_type": "markdown",
   "metadata": {},
   "source": [
    "#### Step 4: Generate the summary statistics for the Monte Carlo simulation."
   ]
  },
  {
   "cell_type": "code",
   "execution_count": 59,
   "metadata": {},
   "outputs": [
    {
     "data": {
      "text/plain": [
       "count           500.000000\n",
       "mean              3.856877\n",
       "std               2.537750\n",
       "min               0.700306\n",
       "25%               2.157840\n",
       "50%               3.142637\n",
       "75%               4.696790\n",
       "max              16.199635\n",
       "95% CI Lower      1.009887\n",
       "95% CI Upper     10.938991\n",
       "Name: 7560, dtype: float64"
      ]
     },
     "execution_count": 59,
     "metadata": {},
     "output_type": "execute_result"
    }
   ],
   "source": [
    "# Generate summary statistics from the 30-year Monte Carlo simulation results\n",
    "# Save the results as a variable\n",
    "thirty_tbl=MC_30year.summarize_cumulative_return()\n",
    "\n",
    "# Review the 30-year Monte Carlo summary statistics\n",
    "thirty_tbl"
   ]
  },
  {
   "cell_type": "markdown",
   "metadata": {},
   "source": [
    "### Analyze the Retirement Portfolio Forecasts\n",
    "\n",
    "Using the current value of only the stock and bond portion of the member's portfolio and the summary statistics that you generated from the Monte Carlo simulation, answer the following question in your Jupyter notebook:\n",
    "\n",
    "-  What are the lower and upper bounds for the expected value of the portfolio with a 95% confidence interval?\n"
   ]
  },
  {
   "cell_type": "code",
   "execution_count": 76,
   "metadata": {},
   "outputs": [
    {
     "name": "stdout",
     "output_type": "stream",
     "text": [
      "The current balance of the stock and bond portion of the members portfolio is: $66030.70\n"
     ]
    }
   ],
   "source": [
    "# Print the current balance of the stock and bond portion of the members portfolio\n",
    "print(f'The current balance of the stock and bond portion of the members portfolio is: ${total_stocks_bonds:.2f}')\n"
   ]
  },
  {
   "cell_type": "code",
   "execution_count": 75,
   "metadata": {},
   "outputs": [
    {
     "name": "stdout",
     "output_type": "stream",
     "text": [
      "There is a 95% chance that your current stock/bond portfolio over the next year will end within the range of $66683.56 and $722309.23.\n"
     ]
    }
   ],
   "source": [
    "# Use the lower and upper `95%` confidence intervals to calculate the range of the possible outcomes for the current stock/bond portfolio\n",
    "ci_lower_thirty_cumulative_return = round(thirty_tbl[8] * total_stocks_bonds,2)\n",
    "ci_upper_thirty_cumulative_return = round(thirty_tbl[9] * total_stocks_bonds,2)\n",
    "\n",
    "# Print the result of your calculations\n",
    "print(f\"There is a 95% chance that your current stock/bond portfolio\"\n",
    "      f\" over the next year will end within the range of\"\n",
    "      f\" ${ci_lower_thirty_cumulative_return} and ${ci_upper_thirty_cumulative_return}.\")"
   ]
  },
  {
   "cell_type": "markdown",
   "metadata": {},
   "source": [
    "### Forecast Cumulative Returns in 10 Years\n",
    "\n",
    "The CTO of the credit union is impressed with your work on these planning tools but wonders if 30 years is a long time to wait until retirement. So, your next task is to adjust the retirement portfolio and run a new Monte Carlo simulation to find out if the changes will allow members to retire earlier.\n",
    "\n",
    "For this new Monte Carlo simulation, do the following: \n",
    "\n",
    "- Forecast the cumulative returns for 10 years from now. Because of the shortened investment horizon (30 years to 10 years), the portfolio needs to invest more heavily in the riskier asset&mdash;that is, stock&mdash;to help accumulate wealth for retirement. \n",
    "\n",
    "- Adjust the weights of the retirement portfolio so that the composition for the Monte Carlo simulation consists of 20% bonds and 80% stocks. \n",
    "\n",
    "- Run the simulation over 500 samples, and use the same data that the API call to Alpaca generated.\n",
    "\n",
    "- Based on the new Monte Carlo simulation, answer the following questions in your Jupyter notebook:\n",
    "\n",
    "    - Using the current value of only the stock and bond portion of the member's portfolio and the summary statistics that you generated from the new Monte Carlo simulation, what are the lower and upper bounds for the expected value of the portfolio (with the new weights) with a 95% confidence interval?\n",
    "\n",
    "    - Will weighting the portfolio more heavily toward stocks allow the credit union members to retire after only 10 years?\n"
   ]
  },
  {
   "cell_type": "code",
   "execution_count": 63,
   "metadata": {},
   "outputs": [
    {
     "data": {
      "text/html": [
       "<div>\n",
       "<style scoped>\n",
       "    .dataframe tbody tr th:only-of-type {\n",
       "        vertical-align: middle;\n",
       "    }\n",
       "\n",
       "    .dataframe tbody tr th {\n",
       "        vertical-align: top;\n",
       "    }\n",
       "\n",
       "    .dataframe thead tr th {\n",
       "        text-align: left;\n",
       "    }\n",
       "\n",
       "    .dataframe thead tr:last-of-type th {\n",
       "        text-align: right;\n",
       "    }\n",
       "</style>\n",
       "<table border=\"1\" class=\"dataframe\">\n",
       "  <thead>\n",
       "    <tr>\n",
       "      <th></th>\n",
       "      <th colspan=\"8\" halign=\"left\">SPY</th>\n",
       "      <th colspan=\"8\" halign=\"left\">AGG</th>\n",
       "    </tr>\n",
       "    <tr>\n",
       "      <th></th>\n",
       "      <th>open</th>\n",
       "      <th>high</th>\n",
       "      <th>low</th>\n",
       "      <th>close</th>\n",
       "      <th>volume</th>\n",
       "      <th>trade_count</th>\n",
       "      <th>vwap</th>\n",
       "      <th>daily_return</th>\n",
       "      <th>open</th>\n",
       "      <th>high</th>\n",
       "      <th>low</th>\n",
       "      <th>close</th>\n",
       "      <th>volume</th>\n",
       "      <th>trade_count</th>\n",
       "      <th>vwap</th>\n",
       "      <th>daily_return</th>\n",
       "    </tr>\n",
       "    <tr>\n",
       "      <th>timestamp</th>\n",
       "      <th></th>\n",
       "      <th></th>\n",
       "      <th></th>\n",
       "      <th></th>\n",
       "      <th></th>\n",
       "      <th></th>\n",
       "      <th></th>\n",
       "      <th></th>\n",
       "      <th></th>\n",
       "      <th></th>\n",
       "      <th></th>\n",
       "      <th></th>\n",
       "      <th></th>\n",
       "      <th></th>\n",
       "      <th></th>\n",
       "      <th></th>\n",
       "    </tr>\n",
       "  </thead>\n",
       "  <tbody>\n",
       "    <tr>\n",
       "      <th>2019-08-01 04:00:00+00:00</th>\n",
       "      <td>297.56</td>\n",
       "      <td>300.87</td>\n",
       "      <td>293.96</td>\n",
       "      <td>294.84</td>\n",
       "      <td>142653060</td>\n",
       "      <td>771413</td>\n",
       "      <td>296.650886</td>\n",
       "      <td>NaN</td>\n",
       "      <td>111.34</td>\n",
       "      <td>111.95</td>\n",
       "      <td>111.26</td>\n",
       "      <td>111.91</td>\n",
       "      <td>5709211</td>\n",
       "      <td>22712</td>\n",
       "      <td>111.700343</td>\n",
       "      <td>NaN</td>\n",
       "    </tr>\n",
       "    <tr>\n",
       "      <th>2019-08-02 04:00:00+00:00</th>\n",
       "      <td>293.86</td>\n",
       "      <td>294.12</td>\n",
       "      <td>290.90</td>\n",
       "      <td>292.62</td>\n",
       "      <td>118248370</td>\n",
       "      <td>552082</td>\n",
       "      <td>292.544668</td>\n",
       "      <td>-0.007530</td>\n",
       "      <td>111.93</td>\n",
       "      <td>112.04</td>\n",
       "      <td>111.82</td>\n",
       "      <td>111.95</td>\n",
       "      <td>3293739</td>\n",
       "      <td>16662</td>\n",
       "      <td>111.917417</td>\n",
       "      <td>0.000357</td>\n",
       "    </tr>\n",
       "    <tr>\n",
       "      <th>2019-08-05 04:00:00+00:00</th>\n",
       "      <td>288.07</td>\n",
       "      <td>288.21</td>\n",
       "      <td>281.72</td>\n",
       "      <td>283.82</td>\n",
       "      <td>178747597</td>\n",
       "      <td>789975</td>\n",
       "      <td>285.254711</td>\n",
       "      <td>-0.030073</td>\n",
       "      <td>112.28</td>\n",
       "      <td>112.58</td>\n",
       "      <td>112.25</td>\n",
       "      <td>112.44</td>\n",
       "      <td>7626664</td>\n",
       "      <td>26007</td>\n",
       "      <td>112.454502</td>\n",
       "      <td>0.004377</td>\n",
       "    </tr>\n",
       "    <tr>\n",
       "      <th>2019-08-06 04:00:00+00:00</th>\n",
       "      <td>285.93</td>\n",
       "      <td>288.04</td>\n",
       "      <td>284.28</td>\n",
       "      <td>287.80</td>\n",
       "      <td>120763412</td>\n",
       "      <td>587808</td>\n",
       "      <td>286.234055</td>\n",
       "      <td>0.014023</td>\n",
       "      <td>112.47</td>\n",
       "      <td>112.76</td>\n",
       "      <td>112.40</td>\n",
       "      <td>112.74</td>\n",
       "      <td>5151810</td>\n",
       "      <td>20819</td>\n",
       "      <td>112.618811</td>\n",
       "      <td>0.002668</td>\n",
       "    </tr>\n",
       "    <tr>\n",
       "      <th>2019-08-07 04:00:00+00:00</th>\n",
       "      <td>284.40</td>\n",
       "      <td>288.82</td>\n",
       "      <td>282.04</td>\n",
       "      <td>287.97</td>\n",
       "      <td>143723012</td>\n",
       "      <td>668446</td>\n",
       "      <td>286.311024</td>\n",
       "      <td>0.000591</td>\n",
       "      <td>113.17</td>\n",
       "      <td>113.29</td>\n",
       "      <td>112.61</td>\n",
       "      <td>112.68</td>\n",
       "      <td>9156551</td>\n",
       "      <td>37550</td>\n",
       "      <td>112.959111</td>\n",
       "      <td>-0.000532</td>\n",
       "    </tr>\n",
       "  </tbody>\n",
       "</table>\n",
       "</div>"
      ],
      "text/plain": [
       "                              SPY                                     \\\n",
       "                             open    high     low   close     volume   \n",
       "timestamp                                                              \n",
       "2019-08-01 04:00:00+00:00  297.56  300.87  293.96  294.84  142653060   \n",
       "2019-08-02 04:00:00+00:00  293.86  294.12  290.90  292.62  118248370   \n",
       "2019-08-05 04:00:00+00:00  288.07  288.21  281.72  283.82  178747597   \n",
       "2019-08-06 04:00:00+00:00  285.93  288.04  284.28  287.80  120763412   \n",
       "2019-08-07 04:00:00+00:00  284.40  288.82  282.04  287.97  143723012   \n",
       "\n",
       "                                                                   AGG  \\\n",
       "                          trade_count        vwap daily_return    open   \n",
       "timestamp                                                                \n",
       "2019-08-01 04:00:00+00:00      771413  296.650886          NaN  111.34   \n",
       "2019-08-02 04:00:00+00:00      552082  292.544668    -0.007530  111.93   \n",
       "2019-08-05 04:00:00+00:00      789975  285.254711    -0.030073  112.28   \n",
       "2019-08-06 04:00:00+00:00      587808  286.234055     0.014023  112.47   \n",
       "2019-08-07 04:00:00+00:00      668446  286.311024     0.000591  113.17   \n",
       "\n",
       "                                                                        \\\n",
       "                             high     low   close   volume trade_count   \n",
       "timestamp                                                                \n",
       "2019-08-01 04:00:00+00:00  111.95  111.26  111.91  5709211       22712   \n",
       "2019-08-02 04:00:00+00:00  112.04  111.82  111.95  3293739       16662   \n",
       "2019-08-05 04:00:00+00:00  112.58  112.25  112.44  7626664       26007   \n",
       "2019-08-06 04:00:00+00:00  112.76  112.40  112.74  5151810       20819   \n",
       "2019-08-07 04:00:00+00:00  113.29  112.61  112.68  9156551       37550   \n",
       "\n",
       "                                                    \n",
       "                                 vwap daily_return  \n",
       "timestamp                                           \n",
       "2019-08-01 04:00:00+00:00  111.700343          NaN  \n",
       "2019-08-02 04:00:00+00:00  111.917417     0.000357  \n",
       "2019-08-05 04:00:00+00:00  112.454502     0.004377  \n",
       "2019-08-06 04:00:00+00:00  112.618811     0.002668  \n",
       "2019-08-07 04:00:00+00:00  112.959111    -0.000532  "
      ]
     },
     "execution_count": 63,
     "metadata": {},
     "output_type": "execute_result"
    }
   ],
   "source": [
    "# Configure a Monte Carlo simulation to forecast 10 years cumulative returns\n",
    "# The weights should be split 20% to AGG and 80% to SPY.\n",
    "# Run 500 samples.\n",
    "ten_year_simulation = MCSimulation(\n",
    "    portfolio_data=three_yr_portfolio,\n",
    "    weights=[0.20, 0.80],\n",
    "    num_simulation=500,\n",
    "    num_trading_days=252*10,\n",
    ")\n",
    "# Review the simulation input data\n",
    "ten_year_simulation.portfolio_data.head()"
   ]
  },
  {
   "cell_type": "code",
   "execution_count": 65,
   "metadata": {},
   "outputs": [
    {
     "name": "stdout",
     "output_type": "stream",
     "text": [
      "Running Monte Carlo simulation number 0.\n",
      "Running Monte Carlo simulation number 10.\n",
      "Running Monte Carlo simulation number 20.\n",
      "Running Monte Carlo simulation number 30.\n",
      "Running Monte Carlo simulation number 40.\n",
      "Running Monte Carlo simulation number 50.\n",
      "Running Monte Carlo simulation number 60.\n",
      "Running Monte Carlo simulation number 70.\n",
      "Running Monte Carlo simulation number 80.\n",
      "Running Monte Carlo simulation number 90.\n",
      "Running Monte Carlo simulation number 100.\n"
     ]
    },
    {
     "name": "stderr",
     "output_type": "stream",
     "text": [
      "/Users/joshpak/Desktop/Challenge5/MCForecastTools.py:117: PerformanceWarning: DataFrame is highly fragmented.  This is usually the result of calling `frame.insert` many times, which has poor performance.  Consider joining all columns at once using pd.concat(axis=1) instead.  To get a de-fragmented frame, use `newframe = frame.copy()`\n",
      "  portfolio_cumulative_returns[n] = (1 + sim_df.fillna(0)).cumprod()\n"
     ]
    },
    {
     "name": "stdout",
     "output_type": "stream",
     "text": [
      "Running Monte Carlo simulation number 110.\n",
      "Running Monte Carlo simulation number 120.\n",
      "Running Monte Carlo simulation number 130.\n",
      "Running Monte Carlo simulation number 140.\n",
      "Running Monte Carlo simulation number 150.\n",
      "Running Monte Carlo simulation number 160.\n",
      "Running Monte Carlo simulation number 170.\n",
      "Running Monte Carlo simulation number 180.\n",
      "Running Monte Carlo simulation number 190.\n",
      "Running Monte Carlo simulation number 200.\n",
      "Running Monte Carlo simulation number 210.\n",
      "Running Monte Carlo simulation number 220.\n",
      "Running Monte Carlo simulation number 230.\n",
      "Running Monte Carlo simulation number 240.\n",
      "Running Monte Carlo simulation number 250.\n",
      "Running Monte Carlo simulation number 260.\n",
      "Running Monte Carlo simulation number 270.\n",
      "Running Monte Carlo simulation number 280.\n",
      "Running Monte Carlo simulation number 290.\n",
      "Running Monte Carlo simulation number 300.\n",
      "Running Monte Carlo simulation number 310.\n",
      "Running Monte Carlo simulation number 320.\n",
      "Running Monte Carlo simulation number 330.\n",
      "Running Monte Carlo simulation number 340.\n",
      "Running Monte Carlo simulation number 350.\n",
      "Running Monte Carlo simulation number 360.\n",
      "Running Monte Carlo simulation number 370.\n",
      "Running Monte Carlo simulation number 380.\n",
      "Running Monte Carlo simulation number 390.\n",
      "Running Monte Carlo simulation number 400.\n",
      "Running Monte Carlo simulation number 410.\n",
      "Running Monte Carlo simulation number 420.\n",
      "Running Monte Carlo simulation number 430.\n",
      "Running Monte Carlo simulation number 440.\n",
      "Running Monte Carlo simulation number 450.\n",
      "Running Monte Carlo simulation number 460.\n",
      "Running Monte Carlo simulation number 470.\n",
      "Running Monte Carlo simulation number 480.\n",
      "Running Monte Carlo simulation number 490.\n"
     ]
    },
    {
     "data": {
      "text/html": [
       "<div>\n",
       "<style scoped>\n",
       "    .dataframe tbody tr th:only-of-type {\n",
       "        vertical-align: middle;\n",
       "    }\n",
       "\n",
       "    .dataframe tbody tr th {\n",
       "        vertical-align: top;\n",
       "    }\n",
       "\n",
       "    .dataframe thead th {\n",
       "        text-align: right;\n",
       "    }\n",
       "</style>\n",
       "<table border=\"1\" class=\"dataframe\">\n",
       "  <thead>\n",
       "    <tr style=\"text-align: right;\">\n",
       "      <th></th>\n",
       "      <th>0</th>\n",
       "      <th>1</th>\n",
       "      <th>2</th>\n",
       "      <th>3</th>\n",
       "      <th>4</th>\n",
       "      <th>5</th>\n",
       "      <th>6</th>\n",
       "      <th>7</th>\n",
       "      <th>8</th>\n",
       "      <th>9</th>\n",
       "      <th>...</th>\n",
       "      <th>490</th>\n",
       "      <th>491</th>\n",
       "      <th>492</th>\n",
       "      <th>493</th>\n",
       "      <th>494</th>\n",
       "      <th>495</th>\n",
       "      <th>496</th>\n",
       "      <th>497</th>\n",
       "      <th>498</th>\n",
       "      <th>499</th>\n",
       "    </tr>\n",
       "  </thead>\n",
       "  <tbody>\n",
       "    <tr>\n",
       "      <th>0</th>\n",
       "      <td>1.000000</td>\n",
       "      <td>1.000000</td>\n",
       "      <td>1.000000</td>\n",
       "      <td>1.000000</td>\n",
       "      <td>1.000000</td>\n",
       "      <td>1.000000</td>\n",
       "      <td>1.000000</td>\n",
       "      <td>1.000000</td>\n",
       "      <td>1.000000</td>\n",
       "      <td>1.000000</td>\n",
       "      <td>...</td>\n",
       "      <td>1.000000</td>\n",
       "      <td>1.000000</td>\n",
       "      <td>1.000000</td>\n",
       "      <td>1.000000</td>\n",
       "      <td>1.000000</td>\n",
       "      <td>1.000000</td>\n",
       "      <td>1.000000</td>\n",
       "      <td>1.000000</td>\n",
       "      <td>1.000000</td>\n",
       "      <td>1.000000</td>\n",
       "    </tr>\n",
       "    <tr>\n",
       "      <th>1</th>\n",
       "      <td>0.999167</td>\n",
       "      <td>1.001171</td>\n",
       "      <td>1.000819</td>\n",
       "      <td>0.994180</td>\n",
       "      <td>0.993999</td>\n",
       "      <td>0.998601</td>\n",
       "      <td>0.997710</td>\n",
       "      <td>0.999785</td>\n",
       "      <td>0.999085</td>\n",
       "      <td>0.993890</td>\n",
       "      <td>...</td>\n",
       "      <td>0.998171</td>\n",
       "      <td>0.997326</td>\n",
       "      <td>1.002231</td>\n",
       "      <td>1.001453</td>\n",
       "      <td>0.998347</td>\n",
       "      <td>0.999268</td>\n",
       "      <td>1.005404</td>\n",
       "      <td>1.003539</td>\n",
       "      <td>1.002831</td>\n",
       "      <td>0.999556</td>\n",
       "    </tr>\n",
       "    <tr>\n",
       "      <th>2</th>\n",
       "      <td>1.004736</td>\n",
       "      <td>0.995723</td>\n",
       "      <td>0.998880</td>\n",
       "      <td>0.991715</td>\n",
       "      <td>0.992164</td>\n",
       "      <td>0.996083</td>\n",
       "      <td>0.996815</td>\n",
       "      <td>1.002603</td>\n",
       "      <td>1.001421</td>\n",
       "      <td>1.008078</td>\n",
       "      <td>...</td>\n",
       "      <td>0.999036</td>\n",
       "      <td>0.998213</td>\n",
       "      <td>1.004724</td>\n",
       "      <td>1.006634</td>\n",
       "      <td>1.011223</td>\n",
       "      <td>0.998204</td>\n",
       "      <td>1.005566</td>\n",
       "      <td>0.998307</td>\n",
       "      <td>0.998309</td>\n",
       "      <td>1.002743</td>\n",
       "    </tr>\n",
       "    <tr>\n",
       "      <th>3</th>\n",
       "      <td>0.998480</td>\n",
       "      <td>0.992707</td>\n",
       "      <td>1.005187</td>\n",
       "      <td>0.992593</td>\n",
       "      <td>0.997391</td>\n",
       "      <td>0.995143</td>\n",
       "      <td>0.991864</td>\n",
       "      <td>1.001300</td>\n",
       "      <td>1.002676</td>\n",
       "      <td>1.012219</td>\n",
       "      <td>...</td>\n",
       "      <td>0.999653</td>\n",
       "      <td>1.001668</td>\n",
       "      <td>0.998380</td>\n",
       "      <td>1.004150</td>\n",
       "      <td>1.016787</td>\n",
       "      <td>0.997149</td>\n",
       "      <td>1.005172</td>\n",
       "      <td>0.996484</td>\n",
       "      <td>1.003119</td>\n",
       "      <td>1.003851</td>\n",
       "    </tr>\n",
       "    <tr>\n",
       "      <th>4</th>\n",
       "      <td>1.001510</td>\n",
       "      <td>0.989622</td>\n",
       "      <td>1.007752</td>\n",
       "      <td>0.997401</td>\n",
       "      <td>0.991011</td>\n",
       "      <td>0.990865</td>\n",
       "      <td>0.989615</td>\n",
       "      <td>1.004197</td>\n",
       "      <td>1.001071</td>\n",
       "      <td>1.005120</td>\n",
       "      <td>...</td>\n",
       "      <td>1.006177</td>\n",
       "      <td>0.990419</td>\n",
       "      <td>1.000743</td>\n",
       "      <td>0.999237</td>\n",
       "      <td>1.020675</td>\n",
       "      <td>0.993235</td>\n",
       "      <td>1.011677</td>\n",
       "      <td>0.995281</td>\n",
       "      <td>1.004038</td>\n",
       "      <td>0.999340</td>\n",
       "    </tr>\n",
       "    <tr>\n",
       "      <th>...</th>\n",
       "      <td>...</td>\n",
       "      <td>...</td>\n",
       "      <td>...</td>\n",
       "      <td>...</td>\n",
       "      <td>...</td>\n",
       "      <td>...</td>\n",
       "      <td>...</td>\n",
       "      <td>...</td>\n",
       "      <td>...</td>\n",
       "      <td>...</td>\n",
       "      <td>...</td>\n",
       "      <td>...</td>\n",
       "      <td>...</td>\n",
       "      <td>...</td>\n",
       "      <td>...</td>\n",
       "      <td>...</td>\n",
       "      <td>...</td>\n",
       "      <td>...</td>\n",
       "      <td>...</td>\n",
       "      <td>...</td>\n",
       "      <td>...</td>\n",
       "    </tr>\n",
       "    <tr>\n",
       "      <th>2516</th>\n",
       "      <td>1.342075</td>\n",
       "      <td>0.981922</td>\n",
       "      <td>1.384767</td>\n",
       "      <td>1.240908</td>\n",
       "      <td>1.103268</td>\n",
       "      <td>1.061110</td>\n",
       "      <td>1.000538</td>\n",
       "      <td>1.206456</td>\n",
       "      <td>2.007399</td>\n",
       "      <td>1.236269</td>\n",
       "      <td>...</td>\n",
       "      <td>1.276076</td>\n",
       "      <td>1.692122</td>\n",
       "      <td>0.986423</td>\n",
       "      <td>0.881784</td>\n",
       "      <td>1.264752</td>\n",
       "      <td>1.075013</td>\n",
       "      <td>1.485866</td>\n",
       "      <td>0.773030</td>\n",
       "      <td>0.892663</td>\n",
       "      <td>1.293428</td>\n",
       "    </tr>\n",
       "    <tr>\n",
       "      <th>2517</th>\n",
       "      <td>1.345385</td>\n",
       "      <td>0.983474</td>\n",
       "      <td>1.382158</td>\n",
       "      <td>1.227149</td>\n",
       "      <td>1.098220</td>\n",
       "      <td>1.064351</td>\n",
       "      <td>1.002363</td>\n",
       "      <td>1.210146</td>\n",
       "      <td>2.012886</td>\n",
       "      <td>1.221870</td>\n",
       "      <td>...</td>\n",
       "      <td>1.276220</td>\n",
       "      <td>1.683070</td>\n",
       "      <td>0.999552</td>\n",
       "      <td>0.877709</td>\n",
       "      <td>1.271085</td>\n",
       "      <td>1.070862</td>\n",
       "      <td>1.485126</td>\n",
       "      <td>0.768284</td>\n",
       "      <td>0.892907</td>\n",
       "      <td>1.288588</td>\n",
       "    </tr>\n",
       "    <tr>\n",
       "      <th>2518</th>\n",
       "      <td>1.346794</td>\n",
       "      <td>0.980940</td>\n",
       "      <td>1.383603</td>\n",
       "      <td>1.223258</td>\n",
       "      <td>1.100035</td>\n",
       "      <td>1.065266</td>\n",
       "      <td>1.005157</td>\n",
       "      <td>1.210677</td>\n",
       "      <td>2.002532</td>\n",
       "      <td>1.223506</td>\n",
       "      <td>...</td>\n",
       "      <td>1.274020</td>\n",
       "      <td>1.673361</td>\n",
       "      <td>1.001813</td>\n",
       "      <td>0.883703</td>\n",
       "      <td>1.280423</td>\n",
       "      <td>1.071232</td>\n",
       "      <td>1.484912</td>\n",
       "      <td>0.768589</td>\n",
       "      <td>0.890749</td>\n",
       "      <td>1.283571</td>\n",
       "    </tr>\n",
       "    <tr>\n",
       "      <th>2519</th>\n",
       "      <td>1.351514</td>\n",
       "      <td>0.984431</td>\n",
       "      <td>1.392273</td>\n",
       "      <td>1.233224</td>\n",
       "      <td>1.095930</td>\n",
       "      <td>1.069997</td>\n",
       "      <td>1.008980</td>\n",
       "      <td>1.200681</td>\n",
       "      <td>2.000328</td>\n",
       "      <td>1.224738</td>\n",
       "      <td>...</td>\n",
       "      <td>1.279540</td>\n",
       "      <td>1.660927</td>\n",
       "      <td>0.994695</td>\n",
       "      <td>0.884640</td>\n",
       "      <td>1.283289</td>\n",
       "      <td>1.074846</td>\n",
       "      <td>1.486515</td>\n",
       "      <td>0.765348</td>\n",
       "      <td>0.889934</td>\n",
       "      <td>1.278873</td>\n",
       "    </tr>\n",
       "    <tr>\n",
       "      <th>2520</th>\n",
       "      <td>1.355861</td>\n",
       "      <td>0.979545</td>\n",
       "      <td>1.389112</td>\n",
       "      <td>1.230793</td>\n",
       "      <td>1.099779</td>\n",
       "      <td>1.066957</td>\n",
       "      <td>1.002774</td>\n",
       "      <td>1.196204</td>\n",
       "      <td>1.980537</td>\n",
       "      <td>1.217910</td>\n",
       "      <td>...</td>\n",
       "      <td>1.275098</td>\n",
       "      <td>1.659630</td>\n",
       "      <td>0.996364</td>\n",
       "      <td>0.880135</td>\n",
       "      <td>1.275832</td>\n",
       "      <td>1.077264</td>\n",
       "      <td>1.486613</td>\n",
       "      <td>0.763585</td>\n",
       "      <td>0.885543</td>\n",
       "      <td>1.285364</td>\n",
       "    </tr>\n",
       "  </tbody>\n",
       "</table>\n",
       "<p>2521 rows × 500 columns</p>\n",
       "</div>"
      ],
      "text/plain": [
       "           0         1         2         3         4         5         6    \\\n",
       "0     1.000000  1.000000  1.000000  1.000000  1.000000  1.000000  1.000000   \n",
       "1     0.999167  1.001171  1.000819  0.994180  0.993999  0.998601  0.997710   \n",
       "2     1.004736  0.995723  0.998880  0.991715  0.992164  0.996083  0.996815   \n",
       "3     0.998480  0.992707  1.005187  0.992593  0.997391  0.995143  0.991864   \n",
       "4     1.001510  0.989622  1.007752  0.997401  0.991011  0.990865  0.989615   \n",
       "...        ...       ...       ...       ...       ...       ...       ...   \n",
       "2516  1.342075  0.981922  1.384767  1.240908  1.103268  1.061110  1.000538   \n",
       "2517  1.345385  0.983474  1.382158  1.227149  1.098220  1.064351  1.002363   \n",
       "2518  1.346794  0.980940  1.383603  1.223258  1.100035  1.065266  1.005157   \n",
       "2519  1.351514  0.984431  1.392273  1.233224  1.095930  1.069997  1.008980   \n",
       "2520  1.355861  0.979545  1.389112  1.230793  1.099779  1.066957  1.002774   \n",
       "\n",
       "           7         8         9    ...       490       491       492  \\\n",
       "0     1.000000  1.000000  1.000000  ...  1.000000  1.000000  1.000000   \n",
       "1     0.999785  0.999085  0.993890  ...  0.998171  0.997326  1.002231   \n",
       "2     1.002603  1.001421  1.008078  ...  0.999036  0.998213  1.004724   \n",
       "3     1.001300  1.002676  1.012219  ...  0.999653  1.001668  0.998380   \n",
       "4     1.004197  1.001071  1.005120  ...  1.006177  0.990419  1.000743   \n",
       "...        ...       ...       ...  ...       ...       ...       ...   \n",
       "2516  1.206456  2.007399  1.236269  ...  1.276076  1.692122  0.986423   \n",
       "2517  1.210146  2.012886  1.221870  ...  1.276220  1.683070  0.999552   \n",
       "2518  1.210677  2.002532  1.223506  ...  1.274020  1.673361  1.001813   \n",
       "2519  1.200681  2.000328  1.224738  ...  1.279540  1.660927  0.994695   \n",
       "2520  1.196204  1.980537  1.217910  ...  1.275098  1.659630  0.996364   \n",
       "\n",
       "           493       494       495       496       497       498       499  \n",
       "0     1.000000  1.000000  1.000000  1.000000  1.000000  1.000000  1.000000  \n",
       "1     1.001453  0.998347  0.999268  1.005404  1.003539  1.002831  0.999556  \n",
       "2     1.006634  1.011223  0.998204  1.005566  0.998307  0.998309  1.002743  \n",
       "3     1.004150  1.016787  0.997149  1.005172  0.996484  1.003119  1.003851  \n",
       "4     0.999237  1.020675  0.993235  1.011677  0.995281  1.004038  0.999340  \n",
       "...        ...       ...       ...       ...       ...       ...       ...  \n",
       "2516  0.881784  1.264752  1.075013  1.485866  0.773030  0.892663  1.293428  \n",
       "2517  0.877709  1.271085  1.070862  1.485126  0.768284  0.892907  1.288588  \n",
       "2518  0.883703  1.280423  1.071232  1.484912  0.768589  0.890749  1.283571  \n",
       "2519  0.884640  1.283289  1.074846  1.486515  0.765348  0.889934  1.278873  \n",
       "2520  0.880135  1.275832  1.077264  1.486613  0.763585  0.885543  1.285364  \n",
       "\n",
       "[2521 rows x 500 columns]"
      ]
     },
     "execution_count": 65,
     "metadata": {},
     "output_type": "execute_result"
    }
   ],
   "source": [
    "# Run the Monte Carlo simulation to forecast 10 years cumulative returns\n",
    "ten_year_simulation.calc_cumulative_return()\n"
   ]
  },
  {
   "cell_type": "code",
   "execution_count": 67,
   "metadata": {},
   "outputs": [
    {
     "data": {
      "text/plain": [
       "<AxesSubplot:title={'center':'500 Simulations of Cumulative Portfolio Return Trajectories Over the Next 2520 Trading Days.'}>"
      ]
     },
     "execution_count": 67,
     "metadata": {},
     "output_type": "execute_result"
    },
    {
     "data": {
      "image/png": "[encoded data removed]",
      "text/plain": [
       "<Figure size 432x288 with 1 Axes>"
      ]
     },
     "metadata": {
      "needs_background": "light"
     },
     "output_type": "display_data"
    }
   ],
   "source": [
    "# Visualize the 10-year Monte Carlo simulation by creating an\n",
    "# overlay line plot\n",
    "ten_year_simulation.plot_simulation()"
   ]
  },
  {
   "cell_type": "code",
   "execution_count": 68,
   "metadata": {},
   "outputs": [
    {
     "data": {
      "text/plain": [
       "<AxesSubplot:title={'center':'Distribution of Final Cumuluative Returns Across All 500 Simulations'}, ylabel='Frequency'>"
      ]
     },
     "execution_count": 68,
     "metadata": {},
     "output_type": "execute_result"
    },
    {
     "data": {
      "image/png": "[encoded data removed]",
      "text/plain": [
       "<Figure size 432x288 with 1 Axes>"
      ]
     },
     "metadata": {
      "needs_background": "light"
     },
     "output_type": "display_data"
    }
   ],
   "source": [
    "# Visualize the probability distribution of the 10-year Monte Carlo simulation \n",
    "# by plotting a histogram\n",
    "ten_year_simulation.plot_distribution()"
   ]
  },
  {
   "cell_type": "code",
   "execution_count": 69,
   "metadata": {},
   "outputs": [
    {
     "data": {
      "text/plain": [
       "count           500.000000\n",
       "mean              1.122072\n",
       "std               0.252403\n",
       "min               0.530538\n",
       "25%               0.942312\n",
       "50%               1.086500\n",
       "75%               1.281997\n",
       "max               2.070700\n",
       "95% CI Lower      0.709415\n",
       "95% CI Upper      1.626799\n",
       "Name: 2520, dtype: float64"
      ]
     },
     "execution_count": 69,
     "metadata": {},
     "output_type": "execute_result"
    }
   ],
   "source": [
    "# Generate summary statistics from the 10-year Monte Carlo simulation results\n",
    "# Save the results as a variable\n",
    "ten_tbl=ten_year_simulation.summarize_cumulative_return()\n",
    "\n",
    "\n",
    "# Review the 10-year Monte Carlo summary statistics\n",
    "ten_tbl"
   ]
  },
  {
   "cell_type": "markdown",
   "metadata": {},
   "source": [
    "### Answer the following questions:"
   ]
  },
  {
   "cell_type": "markdown",
   "metadata": {},
   "source": [
    "#### Question: Using the current value of only the stock and bond portion of the member's portfolio and the summary statistics that you generated from the new Monte Carlo simulation, what are the lower and upper bounds for the expected value of the portfolio (with the new weights) with a 95% confidence interval?"
   ]
  },
  {
   "cell_type": "code",
   "execution_count": 74,
   "metadata": {},
   "outputs": [
    {
     "name": "stdout",
     "output_type": "stream",
     "text": [
      "The current balance of the stock and bond portion of the members portfolio is: $66030.70\n"
     ]
    }
   ],
   "source": [
    "# Print the current balance of the stock and bond portion of the members portfolio\n",
    "print(f'The current balance of the stock and bond portion of the members portfolio is: ${total_stocks_bonds:.2f}')\n"
   ]
  },
  {
   "cell_type": "code",
   "execution_count": 73,
   "metadata": {},
   "outputs": [
    {
     "name": "stdout",
     "output_type": "stream",
     "text": [
      "There is a 95% chance that your current stock/bond portfolio over the next ten years will end within the range of $46843.16 and $107418.66.\n"
     ]
    }
   ],
   "source": [
    "# Use the lower and upper `95%` confidence intervals to calculate the range of the possible outcomes for the current stock/bond portfolio\n",
    "ci_lower_ten_cumulative_return = round(ten_tbl[8] * total_stocks_bonds,2)\n",
    "ci_upper_ten_cumulative_return = round(ten_tbl[9] * total_stocks_bonds,2)\n",
    "\n",
    "# Print the result of your calculations\n",
    "print(f\"There is a 95% chance that your current stock/bond portfolio\"\n",
    "      f\" over the next ten years will end within the range of\"\n",
    "      f\" ${ci_lower_ten_cumulative_return} and ${ci_upper_ten_cumulative_return}.\")"
   ]
  },
  {
   "cell_type": "markdown",
   "metadata": {},
   "source": [
    "#### Question: Will weighting the portfolio more heavily to stocks allow the credit union members to retire after only 10 years?"
   ]
  },
  {
   "cell_type": "raw",
   "metadata": {},
   "source": [
    "**Answer** # Data cannot determine that portfolio will allow retirement after only 10 years."
   ]
  },
  {
   "cell_type": "code",
   "execution_count": null,
   "metadata": {},
   "outputs": [],
   "source": []
  },
  {
   "cell_type": "code",
   "execution_count": null,
   "metadata": {},
   "outputs": [],
   "source": []
  }
 ],
 "metadata": {
  "kernelspec": {
   "display_name": "Python 3 (ipykernel)",
   "language": "python",
   "name": "python3"
  },
  "language_info": {
   "codemirror_mode": {
    "name": "ipython",
    "version": 3
   },
   "file_extension": ".py",
   "mimetype": "text/x-python",
   "name": "python",
   "nbconvert_exporter": "python",
   "pygments_lexer": "ipython3",
   "version": "3.7.13"
  }
 },
 "nbformat": 4,
 "nbformat_minor": 4
}
